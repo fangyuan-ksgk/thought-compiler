{
 "cells": [
  {
   "cell_type": "markdown",
   "metadata": {},
   "source": [
    "#### Up-to-date paper from arXiv"
   ]
  },
  {
   "cell_type": "code",
   "execution_count": 1,
   "metadata": {},
   "outputs": [
    {
     "name": "stdout",
     "output_type": "stream",
     "text": [
      "Could not load vllm class, check CUDA support and GPU RAM size\n"
     ]
    },
    {
     "name": "stderr",
     "output_type": "stream",
     "text": [
      "Processing Time Ranges: 100%|██████████| 40/40 [02:42<00:00,  4.06s/it]\n"
     ]
    }
   ],
   "source": [
    "import arxiv \n",
    "from tqdm import tqdm\n",
    "import os \n",
    "from src.paper import *\n",
    "from src.llm import get_groq_response\n",
    "\n",
    "\n",
    "query = \"AI\"\n",
    "max_results = 100\n",
    "\n",
    "client = arxiv.Client()\n",
    "\n",
    "time_ranges = get_time_range(begin_date=\"2024-01-01\")\n",
    "\n",
    "for start_date_str, end_date_str in tqdm(time_ranges[1:], desc=\"Processing Time Ranges\"):\n",
    "    search_query = f\"{query} AND submittedDate:[{start_date_str} TO {end_date_str}]\"\n",
    "    search = arxiv.Search(\n",
    "        query=search_query,\n",
    "        max_results=max_results,\n",
    "        sort_by=arxiv.SortCriterion.SubmittedDate,\n",
    "        sort_order=arxiv.SortOrder.Descending\n",
    "    )\n",
    "    search_results = [s for s in client.results(search)]\n",
    "\n",
    "    for r in tqdm(search_results, desc=f\"Downloading Papers ({start_date_str} to {end_date_str})\", leave=False):\n",
    "        paper_info = get_paper_info_without_tags(r)\n",
    "        paper = Paper(**paper_info)\n",
    "        paper.save(\"cave/paper/\", name=r.entry_id.split(\"/\")[-1])"
   ]
  },
  {
   "cell_type": "code",
   "execution_count": null,
   "metadata": {},
   "outputs": [],
   "source": []
  },
  {
   "cell_type": "code",
   "execution_count": null,
   "metadata": {},
   "outputs": [],
   "source": []
  }
 ],
 "metadata": {
  "kernelspec": {
   "display_name": "base",
   "language": "python",
   "name": "python3"
  },
  "language_info": {
   "codemirror_mode": {
    "name": "ipython",
    "version": 3
   },
   "file_extension": ".py",
   "mimetype": "text/x-python",
   "name": "python",
   "nbconvert_exporter": "python",
   "pygments_lexer": "ipython3",
   "version": "3.11.5"
  }
 },
 "nbformat": 4,
 "nbformat_minor": 2
}
