{
 "cells": [
  {
   "cell_type": "markdown",
   "metadata": {},
   "source": [
    "#### Up-to-date paper from arXiv"
   ]
  },
  {
   "cell_type": "code",
   "execution_count": 1,
   "metadata": {},
   "outputs": [
    {
     "name": "stderr",
     "output_type": "stream",
     "text": [
      "Downloading Newest Arxiv Papers: 1it [00:13, 13.37s/it]"
     ]
    },
    {
     "name": "stdout",
     "output_type": "stream",
     "text": [
      "Extracted 20 citations and 13 tags.\n"
     ]
    },
    {
     "name": "stderr",
     "output_type": "stream",
     "text": [
      "Downloading Newest Arxiv Papers: 2it [00:20,  9.59s/it]"
     ]
    },
    {
     "name": "stdout",
     "output_type": "stream",
     "text": [
      "Extracted 16 citations and 12 tags.\n"
     ]
    },
    {
     "name": "stderr",
     "output_type": "stream",
     "text": [
      "Downloading Newest Arxiv Papers: 3it [00:32, 10.67s/it]"
     ]
    },
    {
     "name": "stdout",
     "output_type": "stream",
     "text": [
      "Extracted 31 citations and 14 tags.\n",
      "An error occurred: 'NoneType' object has no attribute 'group'\n",
      "Issue response: \n",
      " {\n",
      "    \"citations\": [\n",
      "        \"MusicLM: Generating Music From Text\",\n",
      "        \"Summarizing wearable video\",\n",
      "        \"Smartphone-Based Lifelogging: Toward Realization of Personal Big Data\",\n",
      "        \"MoMu: A Mobile Music Toolkit\",\n",
      "        \"YouTube: Online Video and Participatory Culture\",\n",
      "        \"The role of music, sound effects & speech on absorption in a film: The congruence-associationist model of media cognition\",\n",
      "        \"Legal and regulatory challenges to utilizing lifelogging technologies for the frail and sick\",\n",
      "        \"Simple and Controllable Music Generation\",\n",
      "        \"Emotions in Sound: Audiovisual Metaphors in the Sound Design of Narrative Films\",\n",
      "        \"Music Creation by Example\",\n",
      "        \"MyLifeBits: fulfilling the Memex vision\",\n",
      "        \"IBM SPSS Statistics 26 Step by Step: A Simple Guide and Reference\",\n",
      "        \"Audio immersion in games — a case study using an online game with background music and sound effects\",\n",
      "        \"Playing with sound: The role of music and sound effects in gaming\",\n",
      "        \"Eliciting Sound Memories\",\n",
      "        \"Emotion and autobiographical memory\",\n",
      "        \"Context-based video retrieval system for the life-log applications\",\n",
      "        \"Compound Word Transformer: Learning to Compose Full-Song Music over Dynamic Directed Hypergraphs\",\n",
      "        \"SOUNDCAPSULE: THE STUDY OF REMINISCENCE TRIGGERED BY UTILIZING SOUND MEDIA AND TECHNOLOGY\",\n",
      "        \"Noise2Music: Text-conditioned Music Generation with Diffusion Models\",\n",
      "        \"Make-An-Audio: Text-To-Audio Generation with Prompt-Enhanced Diffusion Models\",\n",
      "        \"Pop Music Transformer: Beat-based Modeling and Generation of Expressive Pop Piano Compositions\",\n",
      "        \"Preferred Climate Change Adaptation Strategy for the Lower Vam Co River Basin, Long An Province, Viet Nam\",\n",
      "        \"Tangible bits: towards seamless interfaces between people, bits and atoms\",\n",
      "        \"Now let me see where i was: understanding how lifelogs mediate memory\",\n",
      "        \"Utilizing Sound Effects in Mobile User Interface Design\",\n",
      "        \"Novice-AI Music Co-Creation via AI-Steering Tools for Deep Generative Models\",\n",
      "        \"How to specify the participant group size for usability studies: a practitioner’s guide\",\n",
      "        \"Using personal objects as tangible interfaces for memory recollection and sharing\",\n",
      "        \"Sound Design Theory and Practice: Working with Sound\",\n",
      "        \"MIMOSA: Human-AI Co-Creation of Computational Spatial Audio Effects on Videos\",\n",
      "        \"Sonic Gems: Exploring the Potential of Audio Recording as a Form of Sentimental Memory Capture\",\n",
      "        \"The use of focus group discussion methodology: Insights from two decades of application in conservation\",\n",
      "        \"Visually Indicated Sounds\",\n",
      "        \"Making history: intentional capture of future memories\",\n",
      "        \"FM radio: family interplay with sonic mementos\",\n",
      "        \"Lifelogging as a rehabilitation tool in patients with amnesia: A narrative literature review on the effect of lifelogging on memory loss\",\n",
      "        \"The vivid tactile experience from vision and auditory: Clues from multisensory channel integration\",\n",
      "        \"MelodyGLM: Multi-task Pre-training for Symbolic Melody Generation\",\n",
      "        \"SunO: potential, prospects, and trends\",\n",
      "        \"MusicBERT: Symbolic Music Understanding with Large-Scale Pre-Training\",\n",
      "        \"WuYun: Exploring hierarchical skeleton-guided melody generation using knowledge-enhanced deep learning\",\n",
      "        \"COSMIC: A Conversational Interface for Human-AI Music Co-Creation\",\n",
      "        \"Sound Communication in Short Videos Based on Auditory Perception Theory\",\n",
      "        \"Exploration of Sound Elements' Control over Audience Attention in Short Videos: A Case Study of the Douyin Platform\"\n",
      "    ],\n",
      "    \"tags\": [\n",
      "        \"human-AI co-creation\",\n",
      "        \"sound design\",\n",
      "        \"user experience\",\n",
      "        \"memory evocation\",\n",
      "        \"mobile applications\",\n",
      "        \"multimodal interaction\",\n",
      "        \"artificial intelligence\",\n",
      "        \"creativity support\",\n",
      "        \"conversational agents\",\n",
      "        \"UGC creation tools\",\n",
      "        \"audio-visual integration\",\n",
      "        \"sound memory\",\n",
      "        \"immersive experiences\",\n",
      "        \"sound effects\",\n",
      "        \"music generation\",\n",
      "        \"emotional engagement\"\n",
      "    ]\n",
      "}\n"
     ]
    },
    {
     "name": "stderr",
     "output_type": "stream",
     "text": [
      "Downloading Newest Arxiv Papers: 4it [00:58, 16.98s/it]"
     ]
    },
    {
     "name": "stdout",
     "output_type": "stream",
     "text": [
      "Extracted 37 citations and 12 tags.\n",
      "An error occurred: 'NoneType' object has no attribute 'group'\n",
      "Issue response: \n",
      " {\n",
      "    \"citations\": [\n",
      "        \"A Treatise of Human Nature\",\n",
      "        \"Situated Cognition and the Culture of Learning\",\n",
      "        \"Situated Cognition\",\n",
      "        \"The Situativity of Knowing, Learning, and Research\",\n",
      "        \"Situated Learning: Legitimate Peripheral Participation\",\n",
      "        \"ACRE: Abstract Causal Reasoning Beyond Covariation\",\n",
      "        \"Raven Progressive Matrices\",\n",
      "        \"Learning Compositional Rules via Neural Program Synthesis\",\n",
      "        \"Benchmarking the Spectrum of Agent Capabilities\",\n",
      "        \"Language Models are Few-Shot Learners\",\n",
      "        \"Automatic Chain of Thought Prompting in Large Language Models\",\n",
      "        \"Palm: Scaling Language Modeling with Pathways\",\n",
      "        \"Do as I Can, Not as I Say: Grounding Language in Robotic Affordances\",\n",
      "        \"Guiding Pretraining in Reinforcement Learning with Large Language Models\",\n",
      "        \"Describe, Explain, Plan and Select: Interactive Planning with LLMs Enables Open-World Multi-Task Agents\",\n",
      "        \"Reflexion: Language Agents with Verbal Reinforcement Learning\",\n",
      "        \"Sparks of Artificial General Intelligence: Early Experiments with GPT-4\",\n",
      "        \"PAL: Program-Aided Language Models\",\n",
      "        \"Jarvis-1: Open-World Multi-Task Agents with Memory-Augmented Multimodal Language Models\",\n",
      "        \"Can a Suit of Armor Conduct Electricity? A New Dataset for Open Book Question Answering\",\n",
      "        \"Retrieval Augmented Thoughts Elicit Context-Aware Reasoning in Long-Horizon Generation\",\n",
      "        \"Building Proactive Cooperative Agents with Large Language Models\",\n",
      "        \"Open-World Multi-Task Control through Goal-Aware Representation Learning and Adaptive Horizon Prediction\",\n",
      "        \"Learning to Follow Instructions by Watching Gameplay Videos\",\n",
      "        \"Reasoning or Reciting? Exploring the Capabilities and Limitations of Language Models through Counterfactual Tasks\",\n",
      "        \"Language Models are Greedy Reasoners: A Systematic Formal Analysis of Chain-of-Thought\",\n",
      "        \"Language Models Show Human-Like Content Effects on Reasoning\",\n",
      "        \"Large Language Models as General Pattern Machines\",\n",
      "        \"Playgrounds for Abstraction and Reasoning\",\n",
      "        \"Towards AI-Complete Question Answering: A Set of Prerequisite Toy Tasks\",\n",
      "        \"Language Models as Inductive Reasoners\",\n",
      "        \"On the Measure of Intelligence\",\n",
      "        \"The Child as Hacker: Building More Human-Like Models of Learning\"\n",
      "    ],\n",
      "    \"tags\": [\n",
      "        \"inductive reasoning\",\n",
      "        \"situated reasoning\",\n",
      "        \"large language models\",\n",
      "        \"interactive environments\",\n",
      "        \"decision-making\",\n",
      "        \"counter-commonsense scenarios\",\n",
      "        \"machine learning\",\n",
      "        \"reinforcement learning\",\n",
      "        \"cognitive science\",\n",
      "        \"game mechanics\",\n",
      "        \"knowledge acquisition\",\n",
      "        \"dynamic environments\",\n",
      "        \"human-AI interaction\"\n",
      "    ]\n",
      "}\n"
     ]
    },
    {
     "name": "stderr",
     "output_type": "stream",
     "text": [
      "Downloading Newest Arxiv Papers: 5it [01:17, 17.55s/it]"
     ]
    },
    {
     "name": "stdout",
     "output_type": "stream",
     "text": [
      "Extracted 19 citations and 10 tags.\n",
      "An error occurred: 'NoneType' object has no attribute 'group'\n",
      "Issue response: \n",
      " {\n",
      "    \"citations\": [\n",
      "        \"Artificial text detection (ATD): A critical survey\",\n",
      "        \"DetectGPT: Zero-shot machine-generated text detection using probability curvature\",\n",
      "        \"The low-dimensional linear geometry of contextualized word representations\",\n",
      "        \"GLTR: Statistical detection and visualization of generated text\",\n",
      "        \"BERT: Pre-training of deep bidirectional transformers for language understanding\",\n",
      "        \"Roberta: A robustly optimized BERT pretraining approach\",\n",
      "        \"LEACE: Perfect linear concept erasure in closed form\",\n",
      "        \"Eagle: A domain generalization framework for AI-generated text detection\",\n",
      "        \"The heads hypothesis: A unifying statistical approach towards understanding multi-headed attention in BERT\",\n",
      "        \"Intrinsic dimension estimation for robust detection of AI-generated texts\",\n",
      "        \"The geometry of truth: Emergent linear structure in large language model representations of true/false datasets\",\n",
      "        \"Paraphrasing evades detectors of AI-generated text, but retrieval is an effective defense\",\n",
      "        \"What you can cram into a single $&!#* vector: Probing sentence embeddings for linguistic properties\",\n",
      "        \"Concept erasure based on probing tasks\",\n",
      "        \"IsoScore: Measuring the uniformity of embedding space utilization\",\n",
      "        \"Not all language model features are linear\"\n",
      "    ],\n",
      "    \"tags\": [\n",
      "        \"AI-generated text detection\",\n",
      "        \"machine learning\",\n",
      "        \"natural language processing\",\n",
      "        \"embedding spaces\",\n",
      "        \"transformer models\",\n",
      "        \"feature extraction\",\n",
      "        \"cross-domain generalization\",\n",
      "        \"semantic analysis\",\n",
      "        \"linear algebra\",\n",
      "        \"concept erasure\"\n",
      "    ]\n",
      "}\n"
     ]
    },
    {
     "name": "stderr",
     "output_type": "stream",
     "text": [
      "Downloading Newest Arxiv Papers: 6it [01:31, 16.22s/it]"
     ]
    },
    {
     "name": "stdout",
     "output_type": "stream",
     "text": [
      "Extracted 17 citations and 10 tags.\n"
     ]
    },
    {
     "name": "stderr",
     "output_type": "stream",
     "text": [
      "Downloading Newest Arxiv Papers: 7it [01:42, 14.74s/it]"
     ]
    },
    {
     "name": "stdout",
     "output_type": "stream",
     "text": [
      "Extracted 33 citations and 16 tags.\n"
     ]
    },
    {
     "name": "stderr",
     "output_type": "stream",
     "text": [
      "Downloading Newest Arxiv Papers: 8it [01:49, 12.13s/it]"
     ]
    },
    {
     "name": "stdout",
     "output_type": "stream",
     "text": [
      "Extracted 21 citations and 13 tags.\n"
     ]
    },
    {
     "name": "stderr",
     "output_type": "stream",
     "text": [
      "Downloading Newest Arxiv Papers: 9it [02:01, 11.98s/it]"
     ]
    },
    {
     "name": "stdout",
     "output_type": "stream",
     "text": [
      "Extracted 35 citations and 19 tags.\n"
     ]
    },
    {
     "name": "stderr",
     "output_type": "stream",
     "text": [
      "Downloading Newest Arxiv Papers: 10it [02:09, 10.81s/it]"
     ]
    },
    {
     "name": "stdout",
     "output_type": "stream",
     "text": [
      "Extracted 20 citations and 12 tags.\n"
     ]
    },
    {
     "name": "stderr",
     "output_type": "stream",
     "text": [
      "Downloading Newest Arxiv Papers: 11it [02:19, 10.61s/it]"
     ]
    },
    {
     "name": "stdout",
     "output_type": "stream",
     "text": [
      "Extracted 17 citations and 13 tags.\n"
     ]
    },
    {
     "name": "stderr",
     "output_type": "stream",
     "text": [
      "Downloading Newest Arxiv Papers: 12it [02:33, 11.57s/it]"
     ]
    },
    {
     "name": "stdout",
     "output_type": "stream",
     "text": [
      "Extracted 37 citations and 12 tags.\n",
      "An error occurred: 'NoneType' object has no attribute 'group'\n",
      "Issue response: \n",
      " {\n",
      "    \"citations\": [\n",
      "        \"The dynamic and stochastic knapsack problem with random sized items\",\n",
      "        \"Energy efficient job scheduling with dvfs for cpu-gpu heterogeneous systems\",\n",
      "        \"Cpu–gpu utilization aware energy-efficient scheduling algorithm on heterogeneous computing systems\",\n",
      "        \"Optimization of topology-aware job allocation on a high-performance computing cluster by neural simulated annealing\",\n",
      "        \"Jigsaw: a high-utilization, interference-free job scheduler for fat-tree clusters\",\n",
      "        \"Evaluation of an interference-free node allocation policy on fat-tree clusters\",\n",
      "        \"Optimizing hardware resource partitioning and job allocations on modern gpus under power caps\",\n",
      "        \"Simulation and optimization of HPC job allocation for jointly reducing communication and cooling costs\",\n",
      "        \"The ATLAS Experiment at the CERN Large Hadron Collider\",\n",
      "        \"The ATLAS production system evolution: new data processing and analysis paradigm for the LHC Run2 and high-luminosity\",\n",
      "        \"ATLAS Dataset Nomenclature\",\n",
      "        \"Multi-level parallelism for incompressible flow computations on gpu clusters\",\n",
      "        \"Towards electronic structure-based ab-initio molecular dynamics simulations with hundreds of millions of atoms\",\n",
      "        \"Deep reinforcement learning with double q-learning\",\n",
      "        \"Proximal policy optimization algorithms\",\n",
      "        \"Asynchronous methods for deep reinforcement learning\",\n",
      "        \"Addressing function approximation error in actor-critic methods\",\n",
      "        \"Implicit quantile networks for distributional reinforcement learning\",\n",
      "        \"Difusco: Graph-based diffusion solvers for combinatorial optimization\",\n",
      "        \"Integer and combinatorial optimization\",\n",
      "        \"Evolutionary optimization algorithms\",\n",
      "        \"Taking the human out of the loop: A review of bayesian optimization\",\n",
      "        \"Reinforcement learning: An introduction\",\n",
      "        \"Denoising diffusion probabilistic models\",\n",
      "        \"LHC Machine\",\n",
      "        \"Observation of a new particle in the search for the Standard Model Higgs boson with the ATLAS detector at the LHC\",\n",
      "        \"PanDA: Production and Distributed Analysis System\",\n",
      "        \"Scientific data management\",\n",
      "        \"The atlas data processing chain: from collisions to papers\",\n",
      "        \"Hepscore23 (hs23) benchmarking\",\n",
      "        \"A reinforcement learning based job scheduling algorithm for heterogeneous computing environment\",\n",
      "        \"Resource management with deep reinforcement learning\",\n",
      "        \"Spotlight: Optimizing device placement for training deep neural networks\",\n",
      "        \"Learning scheduling algorithms for data processing clusters\",\n",
      "        \"A review of safe reinforcement learning: Methods, theory and applications\",\n",
      "        \"Trustworthy reinforcement learning against intrinsic vulnerabilities: Robustness, safety, and generalizability\",\n",
      "        \"Datasets and benchmarks for offline safe reinforcement learning\",\n",
      "        \"Modeling tabular data using conditional gan\",\n",
      "        \"Conditional wasserstein gan-based oversampling of tabular data for imbalanced learning\",\n",
      "        \"Relational data synthesis using generative adversarial networks: A design space exploration\",\n",
      "        \"Pate-gan: Generating synthetic data with differential privacy guarantees\",\n",
      "        \"Score-based oversampling for tabular data\",\n",
      "        \"Differentially private synthetic medical data generation using convolutional gans\",\n",
      "        \"Ganblr: a tabular data generation model\",\n",
      "        \"Ctab-gan: Effective table data synthesizing\",\n",
      "        \"Generating privacy-preserving synthetic tabular data using oblivious variational autoencoders\",\n",
      "        \"Ctabgan+: Enhancing tabular data synthesis\",\n",
      "        \"Tabtransformer: Tabular data modeling using contextual embeddings\",\n",
      "        \"Tabnet: Attentive interpretable tabular learning\",\n",
      "        \"Score-based tabular data synthesis\",\n",
      "        \"Modeling tabular data with diffusion models\",\n",
      "        \"Openml: networked science in machine learning\",\n",
      "        \"Auto-encoding variational bayes\",\n",
      "        \"Generative adversarial networks\",\n",
      "        \"Smote: synthetic minority over-sampling technique\",\n",
      "        \"High-resolution image synthesis with latent diffusion models\",\n",
      "        \"Catboost: unbiased boosting with categorical features\",\n",
      "        \"Scikit-learn: Machine learning in python\",\n",
      "        \"Effectiveness of denoising diffusion probabilistic models for fast and high-fidelity whole-event simulation in high-energy heavy-ion experiments\",\n",
      "        \"On diffusion modeling for anomaly detection\"\n",
      "    ],\n",
      "    \"tags\": [\n",
      "        \"distributed computing\",\n",
      "        \"surrogate models\",\n",
      "        \"AI-based performance modeling\",\n",
      "        \"high-performance computing\",\n",
      "        \"job scheduling\",\n",
      "        \"machine learning\",\n",
      "        \"generative models\",\n",
      "        \"tabular data\",\n",
      "        \"reinforcement learning\",\n",
      "        \"data management\",\n",
      "        \"privacy preservation\",\n",
      "        \"computational physics\",\n",
      "        \"scientific computing\"\n",
      "    ]\n",
      "}\n"
     ]
    },
    {
     "name": "stderr",
     "output_type": "stream",
     "text": [
      "Downloading Newest Arxiv Papers: 13it [03:00, 16.24s/it]"
     ]
    },
    {
     "name": "stdout",
     "output_type": "stream",
     "text": [
      "Extracted 60 citations and 13 tags.\n"
     ]
    },
    {
     "name": "stderr",
     "output_type": "stream",
     "text": [
      "Downloading Newest Arxiv Papers: 14it [03:20, 17.42s/it]"
     ]
    },
    {
     "name": "stdout",
     "output_type": "stream",
     "text": [
      "Extracted 60 citations and 15 tags.\n"
     ]
    },
    {
     "name": "stderr",
     "output_type": "stream",
     "text": [
      "Downloading Newest Arxiv Papers: 15it [03:29, 15.03s/it]"
     ]
    },
    {
     "name": "stdout",
     "output_type": "stream",
     "text": [
      "Extracted 29 citations and 10 tags.\n"
     ]
    },
    {
     "name": "stderr",
     "output_type": "stream",
     "text": [
      "Downloading Newest Arxiv Papers: 16it [03:39, 13.52s/it]"
     ]
    },
    {
     "name": "stdout",
     "output_type": "stream",
     "text": [
      "Extracted 29 citations and 17 tags.\n"
     ]
    },
    {
     "name": "stderr",
     "output_type": "stream",
     "text": [
      "Downloading Newest Arxiv Papers: 17it [03:48, 12.05s/it]"
     ]
    },
    {
     "name": "stdout",
     "output_type": "stream",
     "text": [
      "Extracted 16 citations and 12 tags.\n",
      "An error occurred: 'NoneType' object has no attribute 'group'\n",
      "Issue response: \n",
      " {\n",
      "    \"citations\": [\n",
      "        \"The Road towards Predictable Automotive High-Performance Platforms\",\n",
      "        \"The role of virtualization in embedded systems\",\n",
      "        \"The Definitive Guide to ARM Cortex-M3 and Cortex-M4 Processors\",\n",
      "        \"\\\"Smclic\\\" Core-Local Interrupt Controller (CLIC) RISC-V Privileged Architecture Extension\",\n",
      "        \"RISC-V Advanced Interrupt Architecture (AIA)\",\n",
      "        \"\\\"Interrupting\\\" the Status Quo: A First Glance at the RISC-V Advanced Interrupt Architecture (AIA)\",\n",
      "        \"A first look at risc-v virtualization from an embedded systems perspective\",\n",
      "        \"The Cost of Application-Class Processing: Energy and Performance Analysis of a Linux-Ready 1.7-GHz 64-Bit RISC-V Core in 22-nm FDSOI Technology\",\n",
      "        \"Cheshire: A lightweight, linux-capable risc-v host platform for domain-specific accelerator plug-in\",\n",
      "        \"Bao: A lightweight static partitioning hypervisor for modern multi-core embedded systems\",\n",
      "        \"Embedded hypervisor xvisor: A comparative analysis\",\n",
      "        \"RISC-V Platform-Level Interrupt Controller Specification\",\n",
      "        \"Open Source RISC-V Advanced Interrupt Architecture (AIA) IP\",\n",
      "        \"Cv32rt: Enabling fast interrupt and context switching for risc-v microcontrollers\"\n",
      "    ],\n",
      "    \"tags\": [\n",
      "        \"real-time systems\",\n",
      "        \"virtualization\",\n",
      "        \"RISC-V\",\n",
      "        \"mixed-criticality systems\",\n",
      "        \"interrupt handling\",\n",
      "        \"embedded systems\",\n",
      "        \"edge-AI\",\n",
      "        \"hypervisors\",\n",
      "        \"CVA6 core\",\n",
      "        \"Cheshire platform\"\n",
      "    ]\n",
      "}\n",
      "An error occurred: 'NoneType' object has no attribute 'group'\n",
      "Issue response: \n",
      " {\n",
      "    \"citations\": [\n",
      "        \"The Road towards Predictable Automotive High-Performance Platforms\",\n",
      "        \"The role of virtualization in embedded systems\",\n",
      "        \"The Definitive Guide to ARM Cortex-M3 and Cortex-M4 Processors\",\n",
      "        \"\\\"Smclic\\\" Core-Local Interrupt Controller (CLIC) RISC-V Privileged Architecture Extension\",\n",
      "        \"RISC-V Advanced Interrupt Architecture (AIA)\",\n",
      "        \"\\\"Interrupting\\\" the Status Quo: A First Glance at the RISC-V Advanced Interrupt Architecture (AIA)\",\n",
      "        \"A first look at risc-v virtualization from an embedded systems perspective\",\n",
      "        \"The Cost of Application-Class Processing: Energy and Performance Analysis of a Linux-Ready 1.7-GHz 64-Bit RISC-V Core in 22-nm FDSOI Technology\",\n",
      "        \"Cheshire: A lightweight, linux-capable risc-v host platform for domain-specific accelerator plug-in\",\n",
      "        \"Bao: A lightweight static partitioning hypervisor for modern multi-core embedded systems\",\n",
      "        \"Embedded hypervisor xvisor: A comparative analysis\",\n",
      "        \"RISC-V Platform-Level Interrupt Controller Specification\",\n",
      "        \"Open Source RISC-V Advanced Interrupt Architecture (AIA) IP\",\n",
      "        \"Cv32rt: Enabling fast interrupt and context switching for risc-v microcontrollers\"\n",
      "    ],\n",
      "    \"tags\": [\n",
      "        \"virtualization\",\n",
      "        \"RISC-V\",\n",
      "        \"mixed-criticality systems\",\n",
      "        \"real-time systems\",\n",
      "        \"interrupt handling\",\n",
      "        \"edge AI\",\n",
      "        \"embedded systems\",\n",
      "        \"hypervisors\",\n",
      "        \"hardware architecture\",\n",
      "        \"interrupt latency\",\n",
      "        \"predictability\",\n",
      "        \"autonomous systems\"\n",
      "    ]\n",
      "}\n"
     ]
    },
    {
     "name": "stderr",
     "output_type": "stream",
     "text": [
      "Downloading Newest Arxiv Papers: 18it [04:29, 20.75s/it]"
     ]
    },
    {
     "name": "stdout",
     "output_type": "stream",
     "text": [
      "An error occurred: 'NoneType' object has no attribute 'group'\n",
      "Issue response: \n",
      " {\n",
      "    \"citations\": [\n",
      "        \"The Road towards Predictable Automotive High-Performance Platforms\",\n",
      "        \"The role of virtualization in embedded systems\",\n",
      "        \"The Definitive Guide to ARM Cortex-M3 and Cortex-M4 Processors\",\n",
      "        \"Smclic Core-Local Interrupt Controller (CLIC) RISC-V Privileged Architecture Extension\",\n",
      "        \"RISC-V Advanced Interrupt Architecture (AIA)\",\n",
      "        \"Interrupting the Status Quo: A First Glance at the RISC-V Advanced Interrupt Architecture (AIA)\",\n",
      "        \"A first look at risc-v virtualization from an embedded systems perspective\",\n",
      "        \"The Cost of Application-Class Processing: Energy and Performance Analysis of a Linux-Ready 1.7-GHz 64-Bit RISC-V Core in 22-nm FDSOI Technology\",\n",
      "        \"Cheshire: A lightweight, linux-capable risc-v host platform for domain-specific accelerator plug-in\",\n",
      "        \"Bao: A lightweight static partitioning hypervisor for modern multi-core embedded systems\",\n",
      "        \"Embedded hypervisor xvisor: A comparative analysis\",\n",
      "        \"RISC-V Platform-Level Interrupt Controller Specification\",\n",
      "        \"Open Source RISC-V Advanced Interrupt Architecture (AIA) IP\",\n",
      "        \"Cv32rt: Enabling fast interrupt and context switching for risc-v microcontrollers\"\n",
      "    ],\n",
      "    \"tags\": [\n",
      "        \"virtualization\",\n",
      "        \"embedded systems\",\n",
      "        \"real-time systems\",\n",
      "        \"interrupt handling\",\n",
      "        \"RISC-V\",\n",
      "        \"mixed-criticality systems\",\n",
      "        \"hardware architecture\",\n",
      "        \"hypervisors\",\n",
      "        \"edge AI\",\n",
      "        \"performance evaluation\"\n",
      "    ]\n",
      "}\n"
     ]
    },
    {
     "name": "stderr",
     "output_type": "stream",
     "text": [
      "Downloading Newest Arxiv Papers: 19it [04:44, 19.02s/it]"
     ]
    },
    {
     "name": "stdout",
     "output_type": "stream",
     "text": [
      "Extracted 32 citations and 15 tags.\n"
     ]
    },
    {
     "name": "stderr",
     "output_type": "stream",
     "text": [
      "Downloading Newest Arxiv Papers: 20it [04:53, 16.17s/it]"
     ]
    },
    {
     "name": "stdout",
     "output_type": "stream",
     "text": [
      "Extracted 36 citations and 12 tags.\n"
     ]
    },
    {
     "name": "stderr",
     "output_type": "stream",
     "text": [
      "Downloading Newest Arxiv Papers: 21it [05:03, 14.32s/it]"
     ]
    },
    {
     "name": "stdout",
     "output_type": "stream",
     "text": [
      "Extracted 18 citations and 13 tags.\n",
      "An error occurred: 'NoneType' object has no attribute 'group'\n",
      "Issue response: \n",
      " ```json\n",
      "{\n",
      "    \"citations\": [\n",
      "        \"D. Silverman and H. Yao, Phys. Rev. D 38, 214 (1988)\",\n",
      "        \"J. Adler et al., Phys. Rev. Lett. 60, 1375 (1988)\",\n",
      "        \"J. Z. Bai et al. (BES Collaboration), Phys. Lett. B 429, 188 (1998)\",\n",
      "        \"G. L. Tong, Nucl. Phys. B Proc. Suppl. 144, 259 (2005)\",\n",
      "        \"G. Bonvicini et al. (CLEO Collaboration), Phys. Rev. D 70, 112004 (2004)\",\n",
      "        \"M. Artuso et al. (CLEO Collaboration), Phys. Rev. Lett. 95, 251801 (2005)\",\n",
      "        \"B. I. Eisenstein et al. (CLEO Collaboration), Phys. Rev. D 78, 052003 (2008)\",\n",
      "        \"M. Ablikim et al. (BESIII Collaboration), Phys. Rev. D 89, 051104 (2014)\",\n",
      "        \"M. Ablikim et al. (BESIII Collaboration), Phys. Rev. Lett. 123, 211802 (2019)\",\n",
      "        \"B. C. Ke, J. Koponen, H. B. Li, and Y. H. Zheng, Ann. Rev. Nucl. Part. Sci. 73, 285 (2023)\",\n",
      "        \"A. Bazavov et al., Phys. Rev. D 98, 074512 (2018)\",\n",
      "        \"A. Bazavov et al. (Fermilab Lattice and MILC), Phys. Rev. D 90, 074509 (2014)\",\n",
      "        \"N. Carrasco et al., Phys. Rev. D 91, 054507 (2015)\",\n",
      "        \"P. A. Boyle et al., JHEP 12, 008 (2017)\",\n",
      "        \"W. P. Chen et al. (TWQCD), Phys. Lett. B 736, 231 (2014)\",\n",
      "        \"P. Dimopoulos et al., PoS LATTICE2013, 314 (2014)\",\n",
      "        \"Y. Aoki et al. (Flavour Lattice Averaging Group (FLAG)), Eur. Phys. J. C 82, 869 (2022)\",\n",
      "        \"R. Workman et al. (Particle Data Group), PTEP 2022, 083C01 (2022)\",\n",
      "        \"J. P. Lees et al. (BaBar Collaboration), Phys. Rev. Lett. 109, 101802 (2012)\",\n",
      "        \"J. P. Lees et al. (BaBar Collaboration), Phys. Rev. D 88, 072012 (2013)\",\n",
      "        \"R. Aaij et al. (LHCb Collaboration), Phys. Rev. Lett. 115, 111803 (2015)\",\n",
      "        \"R. Aaij et al. (LHCb Collaboration), Phys. Rev. Lett. 113, 151601 (2014)\",\n",
      "        \"S. Wehle et al. (Belle Collaboration), Phys. Rev. Lett. 118, 111801 (2017)\",\n",
      "        \"H. N. Li et al., Phys. Rev. D 86, 036012 (2012)\",\n",
      "        \"I. I. Bigi et al., JHEP 06, 089 (2011)\",\n",
      "        \"G. Isidori et al., Phys. Lett. B 711, 46 (2012)\",\n",
      "        \"J. Brod et al., Phys. Rev. D 86, 014023 (2012)\",\n",
      "        \"H. Y. Cheng et al., Phys. Rev. D 86, 014014 (2012)\",\n",
      "        \"H. Y. Cheng et al., Phys. Rev. D 100, 093002 (2019)\",\n",
      "        \"R. Aaij et al. (LHCb Collaboration), Phys. Rev. Lett. 122, 211803 (2019)\",\n",
      "        \"S. Fajfer et al., Phys. Rev. D 91, 094009 (2015)\",\n",
      "        \"A. G. Akeroyd et al., Phys. Rev. D 75, 075004 (2007)\",\n",
      "        \"G. C. Branco et al., Rev. Mod. Phys. 84, 515 (2012)\",\n",
      "        \"M. Ablikim et al. (BESIII Collaboration), Nucl. Instrum. Meth. A 614, 345 (2010)\",\n",
      "        \"X. Li et al., Radiat Detect Technol Methods 1, 12 (2022)\",\n",
      "        \"Y. Guo et al., Radiat Detect Technol Methods 1,\n",
      "An error occurred: 'NoneType' object has no attribute 'group'\n",
      "Issue response: \n",
      " {\n",
      "    \"citations\": [\n",
      "        \"D. Silverman and H. Yao, Phys. Rev. D 38, 214 (1988)\",\n",
      "        \"J. Adler et al., Phys. Rev. Lett. 60, 1375 (1988)\",\n",
      "        \"J. Z. Bai et al. (BES Collaboration), Phys. Lett. B 429, 188 (1998)\",\n",
      "        \"G. L. Tong, Nucl. Phys. B Proc. Suppl. 144, 259 (2005)\",\n",
      "        \"G. Bonvicini et al. (CLEO Collaboration), Phys. Rev. D 70, 112004 (2004)\",\n",
      "        \"M. Artuso et al. (CLEO Collaboration), Phys. Rev. Lett. 95, 251801 (2005)\",\n",
      "        \"B. I. Eisenstein et al. (CLEO Collaboration), Phys. Rev. D 78, 052003 (2008)\",\n",
      "        \"M. Ablikim et al. (BESIII Collaboration), Phys. Rev. D 89, 051104 (2014)\",\n",
      "        \"M. Ablikim et al. (BESIII Collaboration), Phys. Rev. Lett. 123, 211802 (2019)\",\n",
      "        \"B. C. Ke, J. Koponen, H. B. Li, and Y. H. Zheng, Ann. Rev. Nucl. Part. Sci. 73, 285 (2023)\",\n",
      "        \"A. Bazavov et al., Phys. Rev. D 98, 074512 (2018)\",\n",
      "        \"A. Bazavov et al. (Fermilab Lattice and MILC), Phys. Rev. D 90, 074509 (2014)\",\n",
      "        \"N. Carrasco et al., Phys. Rev. D 91, 054507 (2015)\",\n",
      "        \"P. A. Boyle et al., JHEP 12, 008 (2017)\",\n",
      "        \"W. P. Chen et al. (TWQCD), Phys. Lett. B 736, 231 (2014)\",\n",
      "        \"P. Dimopoulos et al., PoS LATTICE2013, 314 (2014)\",\n",
      "        \"Y. Aoki et al. (Flavour Lattice Averaging Group (FLAG)), Eur. Phys. J. C 82, 869 (2022)\",\n",
      "        \"R. Workman et al. (Particle Data Group), PTEP 2022, 083C01 (2022)\",\n",
      "        \"J. P. Lees et al. (BaBar Collaboration), Phys. Rev. Lett. 109, 101802 (2012)\",\n",
      "        \"J. P. Lees et al. (BaBar Collaboration), Phys. Rev. D 88, 072012 (2013)\",\n",
      "        \"R. Aaij et al. (LHCb Collaboration), Phys. Rev. Lett. 115, 111803 (2015)\",\n",
      "        \"R. Aaij et al. (LHCb Collaboration), Phys. Rev. Lett. 113, 151601 (2014)\",\n",
      "        \"S. Wehle et al. (Belle Collaboration), Phys. Rev. Lett. 118, 111801 (2017)\",\n",
      "        \"H. N. Li et al., Phys. Rev. D 86, 036012 (2012)\",\n",
      "        \"I. I. Bigi et al., JHEP 06, 089 (2011)\",\n",
      "        \"G. Isidori et al., Phys. Lett. B 711, 46 (2012)\",\n",
      "        \"J. Brod et al., Phys. Rev. D 86, 014023 (2012)\",\n",
      "        \"H. Y. Cheng and C. W. Chiang, Phys. Rev. D 86, 014014 (2012)\",\n",
      "        \"H. Y. Cheng and C. W. Chiang, Phys. Rev. D 100, 093002 (2019)\",\n",
      "        \"R. Aaij et al. (LHCb Collaboration), Phys. Rev. Lett. 122, 211803 (2019)\",\n",
      "        \"S. Fajfer et al., Phys. Rev. D 91, 094009 (2015)\",\n",
      "        \"A. G. Akeroyd and C. H. Chen, Phys. Rev. D 75, 075004 (2007)\",\n",
      "        \"G. C. Branco et al., Rev. Mod. Phys. 84, 515 (2012)\",\n",
      "        \"M. Ablikim et al. (BESIII Collaboration), Nucl. Instrum. Meth. A 614, 345 (2010)\",\n",
      "        \"X. Li et al., Radiat Detect Technol Methods 1, 12 (2022)\",\n",
      "        \"Y. Guo et al.,\n"
     ]
    },
    {
     "name": "stderr",
     "output_type": "stream",
     "text": [
      "Downloading Newest Arxiv Papers: 22it [05:52, 24.58s/it]"
     ]
    },
    {
     "name": "stdout",
     "output_type": "stream",
     "text": [
      "An error occurred: 'NoneType' object has no attribute 'group'\n",
      "Issue response: \n",
      " ```json\n",
      "{\n",
      "    \"citations\": [\n",
      "        \"D. Silverman and H. Yao, Phys. Rev. D 38, 214 (1988)\",\n",
      "        \"J. Adler et al., Phys. Rev. Lett. 60, 1375 (1988)\",\n",
      "        \"J. Z. Bai et al. (BES Collaboration), Phys. Lett. B 429, 188 (1998)\",\n",
      "        \"G. L. Tong, Nucl. Phys. B Proc. Suppl. 144, 259 (2005)\",\n",
      "        \"G. Bonvicini et al. (CLEO Collaboration), Phys. Rev. D 70, 112004 (2004)\",\n",
      "        \"M. Artuso et al. (CLEO Collaboration), Phys. Rev. Lett. 95, 251801 (2005)\",\n",
      "        \"B. I. Eisenstein et al. (CLEO Collaboration), Phys. Rev. D 78, 052003 (2008)\",\n",
      "        \"M. Ablikim et al. (BESIII Collaboration), Phys. Rev. D 89, 051104 (2014)\",\n",
      "        \"M. Ablikim et al. (BESIII Collaboration), Phys. Rev. Lett. 123, 211802 (2019)\",\n",
      "        \"B. C. Ke, J. Koponen, H. B. Li, and Y. H. Zheng, Ann. Rev. Nucl. Part. Sci. 73, 285 (2023)\",\n",
      "        \"A. Bazavov et al., Phys. Rev. D 98, 074512 (2018)\",\n",
      "        \"A. Bazavov et al. (Fermilab Lattice and MILC), Phys. Rev. D 90, 074509 (2014)\",\n",
      "        \"N. Carrasco et al., Phys. Rev. D 91, 054507 (2015)\",\n",
      "        \"P. A. Boyle et al., JHEP 12, 008 (2017)\",\n",
      "        \"W. P. Chen et al. (TWQCD), Phys. Lett. B 736, 231 (2014)\",\n",
      "        \"P. Dimopoulos et al., PoS LATTICE2013, 314 (2014)\",\n",
      "        \"Y. Aoki et al. (Flavour Lattice Averaging Group (FLAG)), Eur. Phys. J. C 82, 869 (2022)\",\n",
      "        \"R. Workman et al. (Particle Data Group), PTEP 2022, 083C01 (2022)\",\n",
      "        \"J. P. Lees et al. (BaBar Collaboration), Phys. Rev. Lett. 109, 101802 (2012)\",\n",
      "        \"J. P. Lees et al. (BaBar Collaboration), Phys. Rev. D 88, 072012 (2013)\",\n",
      "        \"R. Aaij et al. (LHCb Collaboration), Phys. Rev. Lett. 115, 111803 (2015)\",\n",
      "        \"R. Aaij et al. (LHCb Collaboration), Phys. Rev. Lett. 113, 151601 (2014)\",\n",
      "        \"S. Wehle et al. (Belle Collaboration), Phys. Rev. Lett. 118, 111801 (2017)\",\n",
      "        \"H. N. Li et al., Phys. Rev. D 86, 036012 (2012)\",\n",
      "        \"I. I. Bigi et al., JHEP 06, 089 (2011)\",\n",
      "        \"G. Isidori et al., Phys. Lett. B 711, 46 (2012)\",\n",
      "        \"J. Brod et al., Phys. Rev. D 86, 014023 (2012)\",\n",
      "        \"H. Y. Cheng and C. W. Chiang, Phys. Rev. D 86, 014014 (2012)\",\n",
      "        \"H. Y. Cheng and C. W. Chiang, Phys. Rev. D 100, 093002 (2019)\",\n",
      "        \"R. Aaij et al. (LHCb Collaboration), Phys. Rev. Lett. 122, 211803 (2019)\",\n",
      "        \"S. Fajfer et al., Phys. Rev. D 91, 094009 (2015)\",\n",
      "        \"A. G. Akeroyd et al., Phys. Rev. D 75, 075004 (2007)\",\n",
      "        \"G. C. Branco et al., Rev. Mod. Phys. 84, 515 (2012)\",\n",
      "        \"M. Ablikim et al. (BESIII Collaboration), Nucl. Instrum. Meth. A 614, 345 (2010)\",\n",
      "        \"X. Li et al., Radiat Detect Technol Methods 1, 12 (2022)\",\n",
      "        \"Y. Guo et al., Radi\n",
      "An error occurred: 'NoneType' object has no attribute 'group'\n",
      "Issue response: \n",
      " {\n",
      "    \"citations\": [\n",
      "        \"Face morpher\",\n",
      "        \"Leveraging diffusion for strong and high quality face morphing attacks\",\n",
      "        \"Mordiff: Recognition vulnerability and attack detectability of face morphing attacks created by diffusion autoencoders\",\n",
      "        \"ReGenMorph: Visibly realistic GAN generated face morphing attacks by attack regeneration\",\n",
      "        \"MorGAN: Recognition vulnerability and attack detectability of face morphing attacks created by generative adversarial network\",\n",
      "        \"ArcFace: Additive angular margin loss for deep face recognition\",\n",
      "        \"Taming transformers for high-resolution image synthesis\",\n",
      "        \"Decoupling texture blending and shape warping in face morphing\",\n",
      "        \"Analyzing human observer ability in morphing attack detection—where do we stand?\",\n",
      "        \"ISO/IEC CD 20059 - methodologies to evaluate the resistance of biometric recognition systems to morphing attacks\",\n",
      "        \"Adaface: Quality adaptive margin for face recognition\",\n",
      "        \"MagFace: A universal representation for face recognition and quality assessment\",\n",
      "        \"FRVT morph web site\",\n",
      "        \"Overview of the face recognition grand challenge\",\n",
      "        \"Face morphing versus face averaging: Vulnerability and detection\",\n",
      "        \"Leveraging extended latent mapper for generating high quality face swapping\",\n",
      "        \"Biometric systems under morphing attacks: Assessment of morphing techniques and vulnerability reporting\",\n",
      "        \"3d face morphing attacks: Generation, vulnerability and detection\",\n",
      "        \"Deep composite face image attacks: Generation, vulnerability and detection\",\n",
      "        \"Face morphing of newborns can be threatening too : Preliminary study on vulnerability and detection\",\n",
      "        \"Face morphing attack generation and detection: A comprehensive survey\",\n",
      "        \"Can GAN generated morphs threaten face recognition systems equally as landmark based morphs? - Vulnerability and Detection\",\n",
      "        \"MIPGAN—Generating strong and high quality morphing attacks using identity prior driven GAN\",\n",
      "        \"Morphganformer: Transformer-based face morphing and demorphing\",\n",
      "        \"Morph-pipe: Plugging in identity prior to enhance face morphing attack based on diffusion model\"\n",
      "    ],\n",
      "    \"tags\": [\n",
      "        \"face recognition\",\n",
      "        \"morphing attacks\",\n",
      "        \"generative adversarial networks\",\n",
      "        \"diffusion models\",\n",
      "        \"2D face morphing\",\n",
      "        \"image generation\",\n",
      "        \"vulnerability assessment\",\n",
      "        \"biometrics\",\n",
      "        \"attack detection\",\n",
      "        \"machine learning\"\n",
      "    ]\n",
      "}\n"
     ]
    },
    {
     "name": "stderr",
     "output_type": "stream",
     "text": [
      "Downloading Newest Arxiv Papers: 23it [06:07, 21.83s/it]"
     ]
    },
    {
     "name": "stdout",
     "output_type": "stream",
     "text": [
      "Extracted 25 citations and 15 tags.\n"
     ]
    },
    {
     "name": "stderr",
     "output_type": "stream",
     "text": [
      "Downloading Newest Arxiv Papers: 24it [06:17, 18.31s/it]"
     ]
    },
    {
     "name": "stdout",
     "output_type": "stream",
     "text": [
      "Extracted 23 citations and 12 tags.\n"
     ]
    },
    {
     "name": "stderr",
     "output_type": "stream",
     "text": [
      "Downloading Newest Arxiv Papers: 25it [06:29, 16.25s/it]"
     ]
    },
    {
     "name": "stdout",
     "output_type": "stream",
     "text": [
      "Extracted 28 citations and 11 tags.\n"
     ]
    },
    {
     "name": "stderr",
     "output_type": "stream",
     "text": [
      "Downloading Newest Arxiv Papers: 26it [06:41, 14.94s/it]"
     ]
    },
    {
     "name": "stdout",
     "output_type": "stream",
     "text": [
      "Extracted 40 citations and 10 tags.\n"
     ]
    },
    {
     "name": "stderr",
     "output_type": "stream",
     "text": [
      "Downloading Newest Arxiv Papers: 27it [06:59, 15.81s/it]"
     ]
    },
    {
     "name": "stdout",
     "output_type": "stream",
     "text": [
      "Extracted 51 citations and 16 tags.\n"
     ]
    },
    {
     "name": "stderr",
     "output_type": "stream",
     "text": [
      "Downloading Newest Arxiv Papers: 28it [07:12, 15.00s/it]"
     ]
    },
    {
     "name": "stdout",
     "output_type": "stream",
     "text": [
      "Extracted 35 citations and 15 tags.\n"
     ]
    },
    {
     "name": "stderr",
     "output_type": "stream",
     "text": [
      "Downloading Newest Arxiv Papers: 29it [07:20, 13.07s/it]"
     ]
    },
    {
     "name": "stdout",
     "output_type": "stream",
     "text": [
      "Extracted 29 citations and 10 tags.\n",
      "An error occurred: 'NoneType' object has no attribute 'group'\n",
      "Issue response: \n",
      " {\n",
      "    \"citations\": [\n",
      "        \"Qwen 2 72B Math\",\n",
      "        \"DeepSeek Math\",\n",
      "        \"Code Llama\",\n",
      "        \"CodeMistral\",\n",
      "        \"Zhao et al. (2024)\",\n",
      "        \"Shazeer et al. (2017)\",\n",
      "        \"GShard\",\n",
      "        \"Switch Transformers\",\n",
      "        \"HuggingGPT\",\n",
      "        \"RouteLLM\",\n",
      "        \"MMLU\",\n",
      "        \"MMLU Pro\",\n",
      "        \"HumanEval\",\n",
      "        \"College Math\",\n",
      "        \"Math\",\n",
      "        \"GSM8k\",\n",
      "        \"Olympiad Bench\",\n",
      "        \"DeBERTa-v3-large\",\n",
      "        \"Palmyra-health-70B\",\n",
      "        \"Qwen2.5-72B-Math-Instruct\",\n",
      "        \"Qwen2.5-72B-Instruct\",\n",
      "        \"Meta-Llama-3.1-70B-Instruct\",\n",
      "        \"Meta-Llama-3.1-8B-Instruct\",\n",
      "        \"Qwen2.5-Math-7B-Instruct\",\n",
      "        \"Qwen2.5-7B-Instruct\",\n",
      "        \"Qwen2.5-Coder-7B\",\n",
      "        \"Llama 3.1 405B\",\n",
      "        \"Llama 3.1 70B\",\n",
      "        \"Llama 3.1 8B\",\n",
      "        \"Mistral-8x22B\",\n",
      "        \"TogetherAI\",\n",
      "        \"MMLU-Pro\",\n",
      "        \"MathBench\",\n",
      "        \"Mathverse\",\n",
      "        \"DeepSeekMath\"\n",
      "    ],\n",
      "    \"tags\": [\n",
      "        \"large language models\",\n",
      "        \"domain-specific models\",\n",
      "        \"routing systems\",\n",
      "        \"machine learning\",\n",
      "        \"efficiency\",\n",
      "        \"performance evaluation\",\n",
      "        \"benchmarks\",\n",
      "        \"code generation\",\n",
      "        \"healthcare AI\",\n",
      "        \"mathematical reasoning\",\n",
      "        \"computer science\",\n",
      "        \"artificial intelligence\",\n",
      "        \"Mixture of Experts\",\n",
      "        \"natural language processing\",\n",
      "        \"cost-effectiveness\"\n",
      "    ]\n",
      "}\n"
     ]
    },
    {
     "name": "stderr",
     "output_type": "stream",
     "text": [
      "Downloading Newest Arxiv Papers: 30it [07:38, 14.60s/it]"
     ]
    },
    {
     "name": "stdout",
     "output_type": "stream",
     "text": [
      "Extracted 36 citations and 14 tags.\n"
     ]
    },
    {
     "name": "stderr",
     "output_type": "stream",
     "text": [
      "Downloading Newest Arxiv Papers: 31it [07:47, 12.88s/it]"
     ]
    },
    {
     "name": "stdout",
     "output_type": "stream",
     "text": [
      "Extracted 33 citations and 14 tags.\n"
     ]
    },
    {
     "name": "stderr",
     "output_type": "stream",
     "text": [
      "Downloading Newest Arxiv Papers: 32it [08:02, 13.27s/it]"
     ]
    },
    {
     "name": "stdout",
     "output_type": "stream",
     "text": [
      "Extracted 45 citations and 13 tags.\n"
     ]
    },
    {
     "name": "stderr",
     "output_type": "stream",
     "text": [
      "Downloading Newest Arxiv Papers: 33it [08:11, 12.01s/it]"
     ]
    },
    {
     "name": "stdout",
     "output_type": "stream",
     "text": [
      "Extracted 27 citations and 14 tags.\n"
     ]
    },
    {
     "name": "stderr",
     "output_type": "stream",
     "text": [
      "Downloading Newest Arxiv Papers: 34it [08:21, 11.45s/it]"
     ]
    },
    {
     "name": "stdout",
     "output_type": "stream",
     "text": [
      "Extracted 36 citations and 13 tags.\n"
     ]
    },
    {
     "name": "stderr",
     "output_type": "stream",
     "text": [
      "Downloading Newest Arxiv Papers: 35it [08:33, 11.58s/it]"
     ]
    },
    {
     "name": "stdout",
     "output_type": "stream",
     "text": [
      "Extracted 37 citations and 11 tags.\n"
     ]
    },
    {
     "name": "stderr",
     "output_type": "stream",
     "text": [
      "Downloading Newest Arxiv Papers: 36it [09:03, 17.29s/it]"
     ]
    },
    {
     "name": "stdout",
     "output_type": "stream",
     "text": [
      "Extracted 23 citations and 15 tags.\n",
      "An error occurred: 'NoneType' object has no attribute 'group'\n",
      "Issue response: \n",
      " {\n",
      "    \"citations\": [\n",
      "        \"The Moral Machine experiment\",\n",
      "        \"People are averse to machines making moral decisions\",\n",
      "        \"Do the right thing for whom? An experiment on ingroup favouritism, group assorting and moral suasion\",\n",
      "        \"Using cognitive psychology to understand GPT-3\",\n",
      "        \"Random Forests\",\n",
      "        \"A systematic review of algorithm aversion in augmented decision making\",\n",
      "        \"People devalue generative AI’s competence but not its advice in addressing societal and personal challenges\",\n",
      "        \"Understanding, explaining, and utilizing medical artificial intelligence\",\n",
      "        \"Task-Dependent Algorithm Aversion\",\n",
      "        \"(A)I Am Not a Lawyer, But...: Engaging Legal Experts towards Responsible LLM Policies for Legal Advice\",\n",
      "        \"All That’s ’Human’ Is Not Gold: Evaluating Human Evaluation of Generated Text\",\n",
      "        \"The Role of Conscious Reasoning and Intuition in Moral Judgment: Testing Three Principles of Harm\",\n",
      "        \"Psychological factors underlying attitudes toward AI tools\",\n",
      "        \"Sleeper Social Bots: a new generation of AI disinformation bots are already a political threat\",\n",
      "        \"The Neural Bases of Cognitive Conflict and Control in Moral Judgment\",\n",
      "        \"An fMRI Investigation of Emotional Engagement in Moral Judgment\",\n",
      "        \"Human-like intuitive behavior and reasoning biases emerged in large language models but disappeared in ChatGPT\",\n",
      "        \"AI-generated medical advice—GPT and beyond\",\n",
      "        \"Aligning AI With Shared Human Values\",\n",
      "        \"Intergroup Bias\",\n",
      "        \"Deontological coherence: A framework for commonsense moral reasoning\",\n",
      "        \"ChatGPT’s advice is perceived as better than that of professional advice columnists\",\n",
      "        \"Human heuristics for AI-generated language are flawed\",\n",
      "        \"Does GPT-4 pass the Turing test?\",\n",
      "        \"On the Wrong Track: Process and Content in Moral Psychology\",\n",
      "        \"Thinking, fast and slow\",\n",
      "        \"Choices, values, and frames\",\n",
      "        \"Because AI is 100% right and safe: User Attitudes and Sources of AI Authority in India\",\n",
      "        \"A high-level overview of AI ethics\",\n",
      "        \"Strong and weak alignment of large language models with human values\",\n",
      "        \"Damage to the prefrontal cortex increases utilitarian moral judgements\",\n",
      "        \"All the News that’s Fit to Fabricate: AI-Generated Text as a Tool of Media Misinformation\",\n",
      "        \"Artificial intelligence versus Maya Angelou: Experimental evidence that people cannot differentiate AI-generated from human-written poetry\",\n",
      "        \"Moral psychology\",\n",
      "        \"AI AI Bias: Large Language Models Favor Their Own Generated Content\",\n",
      "        \"Ingroup glorification, moral disengagement, and justice in the context of collective violence\",\n",
      "        \"Algorithm appreciation: People prefer algorithmic to human judgment\",\n",
      "        \"A unified approach to interpreting model predictions\",\n",
      "        \"Text mining: use of TF-IDF to examine the relevance of words to documents\",\n",
      "        \"AI Aversion: A Task Dependent Multigroup Analysis\",\n",
      "        \"DistilBERT, a distilled version of BERT: smaller, faster, cheaper and lighter\",\n",
      "        \"Evaluating the Moral Beliefs Encoded in LLMs\",\n",
      "        \"Framing moral intuitions\",\n",
      "        \"Exploring the Deceptive Power of LLM-Generated Fake News: A Study of Real-World Detection Challenges\",\n",
      "        \"Are Large Language Models More Empathetic than Humans?\",\n",
      "        \"Studying and improving reasoning in humans and machines\",\n",
      "        \"Human favoritism, not AI aversion: People’s perceptions (and bias) toward generative AI, human experts, and human–GAI collaboration in persuasive content generation\",\n",
      "        \"Moral Judgments of Human vs. AI Agents in Moral Dilemmas\",\n",
      "        \"Language Models Trained to do Arithmetic Predict Human Risky and Intertemporal Choice\"\n",
      "    ],\n",
      "    \"tags\": [\n",
      "        \"moral decision-making\",\n",
      "        \"large language models\",\n",
      "        \"human-AI alignment\",\n",
      "        \"moral psychology\",\n",
      "        \"quantitative study\",\n",
      "        \"utilitarianism\",\n",
      "        \"AI ethics\",\n",
      "        \"cognitive biases\",\n",
      "        \"AI detection\",\n",
      "        \"bias in AI\",\n",
      "        \"linguistic analysis\",\n",
      "        \"human perception of AI\",\n",
      "        \"moral judgments\",\n",
      "        \"experimental design\",\n",
      "        \"predictive modeling\"\n",
      "    ]\n",
      "}\n"
     ]
    },
    {
     "name": "stderr",
     "output_type": "stream",
     "text": [
      "Downloading Newest Arxiv Papers: 37it [09:38, 22.44s/it]"
     ]
    },
    {
     "name": "stdout",
     "output_type": "stream",
     "text": [
      "Extracted 49 citations and 16 tags.\n",
      "An error occurred: 'NoneType' object has no attribute 'group'\n",
      "Issue response: \n",
      " {\n",
      "    \"citations\": [\n",
      "        \"Moderating AI-Generated Content on Reddit\",\n",
      "        \"Should We Ban Generative AI, Incentivise It or Make It a Medium for Inclusive Creativity?\",\n",
      "        \"Generative AI in Crowdwork for Web and Social Media Research: A Survey of Workers at Three Platforms\",\n",
      "        \"The Paradox of Artificial Creativity: Challenges and Opportunities of Generative AI Artistry\",\n",
      "        \"Social dynamics of AI support in creative writing\",\n",
      "        \"Generative adversarial nets\",\n",
      "        \"Exploring the Evolvement of Artwork Descriptions in Online Creative Community under the Surge of Generative AI: A Case Study of DeviantArt\",\n",
      "        \"Understanding the Impact of AI Generated Content on Social Media: The Pixiv Case\",\n",
      "        \"Generative artificial intelligence, human creativity, and art\",\n",
      "        \"Human Perception of LLM-generated Text Content in Social Media Environments\",\n",
      "        \"Monitoring ai-modified content at scale: A case study on the impact of chatgpt on ai conference peer reviews\",\n",
      "        \"The AI Review Lottery: Widespread AI-Assisted Peer Reviews Boost Paper Scores and Acceptance Rates\",\n",
      "        \"Seeing is not always believing: Benchmarking human and model perception of ai-generated images\",\n",
      "        \"Organic or Diffused: Can We Distinguish Human Art from AI-generated Images?\",\n",
      "        \"Artificial artificial artificial intelligence: Crowd workers widely use large language models for text production tasks\"\n",
      "    ],\n",
      "    \"tags\": [\n",
      "        \"artificial intelligence\",\n",
      "        \"AI-generated content\",\n",
      "        \"online communities\",\n",
      "        \"Reddit\",\n",
      "        \"art\",\n",
      "        \"community dynamics\",\n",
      "        \"creativity\",\n",
      "        \"social media\",\n",
      "        \"moderation\",\n",
      "        \"user participation\"\n",
      "    ]\n",
      "}\n",
      "An error occurred: 'NoneType' object has no attribute 'group'\n",
      "Issue response: \n",
      " {\n",
      "    \"citations\": [\n",
      "        \"Generative ai text classification using ensemble llm approaches\",\n",
      "        \"The pushshift reddit dataset\",\n",
      "        \"Large scale GAN training for high fidelity natural image synthesis\",\n",
      "        \"Generative AI in Crowdwork for Web and Social Media Research: A Survey of Workers at Three Platforms\",\n",
      "        \"Should We Ban Generative AI, Incentivise It or Make It a Medium for Inclusive Creativity? A Research Agenda for EU Copyright Law (Edward Elgar, Forthcoming)\",\n",
      "        \"The Paradox of Artificial Creativity: Challenges and Opportunities of Generative AI Artistry\",\n",
      "        \"Social dynamics of AI support in creative writing\",\n",
      "        \"Generative adversarial nets\",\n",
      "        \"Exploring the Evolvement of Artwork Descriptions in Online Creative Community under the Surge of Generative AI: A Case Study of DeviantArt\",\n",
      "        \"Organic or Diffused: Can We Distinguish Human Art from AI-generated Images?\",\n",
      "        \"Machine-made media: Monitoring the mobilization of machine-generated articles on misinformation and mainstream news websites\",\n",
      "        \"Why do people participate in small online communities?\",\n",
      "        \"There Has To Be a Lot That We’re Missing”: Moderating AI-Generated Content on Reddit\",\n",
      "        \"Seeing is not always believing: Benchmarking human and model perception of ai-generated images\",\n",
      "        \"Art, creativity, and the potential of artificial intelligence\",\n",
      "        \"Generative artificial intelligence, human creativity, and art\",\n",
      "        \"Benchmarking deepart detection\",\n",
      "        \"Generative AI: An Overview of Applications for Business Management\",\n",
      "        \"A survey on ChatGPT: AI-generated contents, challenges, and solutions\",\n",
      "        \"The AI Review Lottery: Widespread AI-Assisted Peer Reviews Boost Paper Scores and Acceptance Rates\",\n",
      "        \"Communities of practice: Facilitating social learning in higher education\",\n",
      "        \"The challenges of dealing with newcomers\",\n",
      "        \"Evolution of Rules in Reddit Communities\",\n",
      "        \"Human Perception of LLM-generated Text Content in Social Media Environments\",\n",
      "        \"A social-ecological approach to modeling sense of virtual community (SOVC) in livestreaming communities\",\n",
      "        \"Pushing The Limit of LLM Capacity for Text Classification\",\n",
      "        \"Advances in Generative AI and Platform Moderation: Implications for Online Knowledge Sharing\"\n",
      "    ],\n",
      "    \"tags\": [\n",
      "        \"AI-generated content\",\n",
      "        \"online communities\",\n",
      "        \"art communities\",\n",
      "        \"machine learning\",\n",
      "        \"generative AI\",\n",
      "        \"Reddit\",\n",
      "        \"community dynamics\",\n",
      "        \"content moderation\",\n",
      "        \"community practice\",\n",
      "        \"digital art\",\n",
      "        \"social media\",\n",
      "        \"data analysis\"\n",
      "    ]\n",
      "}\n"
     ]
    },
    {
     "name": "stderr",
     "output_type": "stream",
     "text": [
      "Downloading Newest Arxiv Papers: 38it [10:10, 25.37s/it]"
     ]
    },
    {
     "name": "stdout",
     "output_type": "stream",
     "text": [
      "An error occurred: 'NoneType' object has no attribute 'group'\n",
      "Issue response: \n",
      " {\n",
      "    \"citations\": [\n",
      "        \"Examining the Prevalence and Dynamics of AI-Generated Media in Art Subreddits\",\n",
      "        \"Joint 2d-3d-semantic data for indoor scene understanding\",\n",
      "        \"Scenescript: Reconstructing scenes with an autoregressive structured language model\",\n",
      "        \"Generative AI in Crowdwork for Web and Social Media Research: A Survey of Workers at Three Platforms\",\n",
      "        \"Should We Ban Generative AI, Incentivise It or Make It a Medium for Inclusive Creativity? A Research Agenda for EU Copyright Law\",\n",
      "        \"The Paradox of Artificial Creativity: Challenges and Opportunities of Generative AI Artistry\",\n",
      "        \"Social dynamics of AI support in creative writing\",\n",
      "        \"Generative adversarial nets\",\n",
      "        \"Exploring the Evolvement of Artwork Descriptions in Online Creative Community under the Surge of Generative AI: A Case Study of DeviantArt\",\n",
      "        \"Understanding the Impact of AI Generated Content on Social Media: The Pixiv Case\",\n",
      "        \"Generative artificial intelligence, human creativity, and art\",\n",
      "        \"Machine-made media: Monitoring the mobilization of machine-generated articles on misinformation and mainstream news websites\",\n",
      "        \"Monitoring ai-modified content at scale: A case study on the impact of chatgpt on ai conference peer reviews\",\n",
      "        \"Seeing is not always believing: Benchmarking human and model perception of ai-generated images\",\n",
      "        \"AI-generated art and the changing landscape of online communities\",\n",
      "        \"Even pseudonyms and throwaways delete their Reddit posts\",\n",
      "        \"Preventing harassment and increasing group participation through social norms in 2,190 online science discussions\",\n",
      "        \"Communities of practice: Learning, meaning, and identity\",\n",
      "        \"Human Perception of LLM-generated Text Content in Social Media Environments\"\n",
      "    ],\n",
      "    \"tags\": [\n",
      "        \"AI-generated content\",\n",
      "        \"art communities\",\n",
      "        \"Reddit\",\n",
      "        \"community dynamics\",\n",
      "        \"online participation\",\n",
      "        \"machine learning\",\n",
      "        \"generative AI\",\n",
      "        \"content moderation\",\n",
      "        \"user behavior\",\n",
      "        \"artificial intelligence\",\n",
      "        \"social media\",\n",
      "        \"authenticity in art\",\n",
      "        \"community values\",\n",
      "        \"digital art\",\n",
      "        \"suspected AI usage\"\n",
      "    ]\n",
      "}\n"
     ]
    },
    {
     "name": "stderr",
     "output_type": "stream",
     "text": [
      "Downloading Newest Arxiv Papers: 39it [10:15, 19.38s/it]"
     ]
    },
    {
     "name": "stdout",
     "output_type": "stream",
     "text": [
      "Extracted 8 citations and 10 tags.\n"
     ]
    },
    {
     "name": "stderr",
     "output_type": "stream",
     "text": [
      "Downloading Newest Arxiv Papers: 40it [10:27, 17.06s/it]"
     ]
    },
    {
     "name": "stdout",
     "output_type": "stream",
     "text": [
      "Extracted 34 citations and 12 tags.\n"
     ]
    },
    {
     "name": "stderr",
     "output_type": "stream",
     "text": [
      "Downloading Newest Arxiv Papers: 41it [10:41, 16.29s/it]"
     ]
    },
    {
     "name": "stdout",
     "output_type": "stream",
     "text": [
      "Extracted 34 citations and 13 tags.\n"
     ]
    },
    {
     "name": "stderr",
     "output_type": "stream",
     "text": [
      "Downloading Newest Arxiv Papers: 42it [10:51, 14.22s/it]"
     ]
    },
    {
     "name": "stdout",
     "output_type": "stream",
     "text": [
      "Extracted 29 citations and 15 tags.\n"
     ]
    },
    {
     "name": "stderr",
     "output_type": "stream",
     "text": [
      "Downloading Newest Arxiv Papers: 43it [11:01, 12.96s/it]"
     ]
    },
    {
     "name": "stdout",
     "output_type": "stream",
     "text": [
      "Extracted 26 citations and 12 tags.\n"
     ]
    },
    {
     "name": "stderr",
     "output_type": "stream",
     "text": [
      "Downloading Newest Arxiv Papers: 44it [11:07, 10.87s/it]"
     ]
    },
    {
     "name": "stdout",
     "output_type": "stream",
     "text": [
      "Extracted 22 citations and 12 tags.\n"
     ]
    },
    {
     "name": "stderr",
     "output_type": "stream",
     "text": [
      "Downloading Newest Arxiv Papers: 45it [11:18, 11.00s/it]"
     ]
    },
    {
     "name": "stdout",
     "output_type": "stream",
     "text": [
      "Extracted 17 citations and 10 tags.\n",
      "An error occurred: 'NoneType' object has no attribute 'group'\n",
      "Issue response: \n",
      " {\n",
      "    \"citations\": [\n",
      "        \"Trust in Generative AI among Students: An exploratory study\",\n",
      "        \"Generative AI in Introductory Programming\",\n",
      "        \"Programming Is Hard - Or at Least It Used to Be: Educational Opportunities and Challenges of AI Code Generation\",\n",
      "        \"Conceptual and design thinking for thematic analysis\",\n",
      "        \"Change by design: How design thinking creates new alternatives for business and society\",\n",
      "        \"It’s not like Jarvis, but it’s pretty close! - Examining ChatGPT’s Usage among Undergraduate Students in Computer Science\",\n",
      "        \"Use of AI-driven Code Generation Models in Teaching and Learning Programming: a Systematic Literature Review\",\n",
      "        \"\\\"ChatGPT Is Here to Help, Not to Replace Anybody\\\" – An Evaluation of Students’ Opinions On Integrating ChatGPT In CS Courses\",\n",
      "        \"Effectiveness of ChatGPT in coding: a comparative analysis of popular large language models\",\n",
      "        \"How ChatGPT Will Change Software Engineering Education\",\n",
      "        \"The Robots Are Coming: Exploring the Implications of OpenAI Codex on Introductory Programming\",\n",
      "        \"Exploring the Profile of University Assessments Flagged as Containing AI-Generated Material\",\n",
      "        \"Experiences from Integrating Large Language Model Chatbots into the Classroom\",\n",
      "        \"The Effects of Generative AI on Computing Students’ Help-Seeking Preferences\",\n",
      "        \"Studying the effect of AI Code Generators on Supporting Novice Learners in Introductory Programming\",\n",
      "        \"Self-Regulation, Self-Efficacy, and Fear of Failure Interactions with How Novices Use LLMs to Solve Programming Problems\",\n",
      "        \"Generating Programs Trivially: Student Use of Large Language Models\",\n",
      "        \"The Robots Are Here: Navigating the Generative AI Revolution in Computing Education\",\n",
      "        \"Usability and Interactions with Copilot for Novice Programmers\",\n",
      "        \"The Widening Gap: The Benefits and Harms of Generative AI for Novice Programmers\",\n",
      "        \"Attitudes Towards the Use (and Misuse) of ChatGPT: A Preliminary Study\",\n",
      "        \"Automatic Generation of Programming Exercises and Code Explanations Using Large Language Models\",\n",
      "        \"Early Adoption of Generative Artificial Intelligence in Computing Education: Emergent Student Use Cases and Perspectives in 2023\",\n",
      "        \"Unveiling ChatGPT’s Usage in Open Source Projects: A Mining-based Study\"\n",
      "    ],\n",
      "    \"tags\": [\n",
      "        \"Generative AI\",\n",
      "        \"Programming education\",\n",
      "        \"Student perceptions\",\n",
      "        \"Computer science\",\n",
      "        \"Large Language Models\",\n",
      "        \"Ethics in AI\",\n",
      "        \"Help-seeking behavior\",\n",
      "        \"AI in academia\",\n",
      "        \"Longitudinal study\",\n",
      "        \"Qualitative analysis\",\n",
      "        \"Quantitative analysis\"\n",
      "    ]\n",
      "}\n"
     ]
    },
    {
     "name": "stderr",
     "output_type": "stream",
     "text": [
      "Downloading Newest Arxiv Papers: 46it [11:38, 13.63s/it]"
     ]
    },
    {
     "name": "stdout",
     "output_type": "stream",
     "text": [
      "Extracted 24 citations and 10 tags.\n"
     ]
    },
    {
     "name": "stderr",
     "output_type": "stream",
     "text": [
      "Downloading Newest Arxiv Papers: 47it [11:42, 10.86s/it]"
     ]
    },
    {
     "name": "stdout",
     "output_type": "stream",
     "text": [
      "Extracted 8 citations and 10 tags.\n"
     ]
    },
    {
     "name": "stderr",
     "output_type": "stream",
     "text": [
      "Downloading Newest Arxiv Papers: 48it [11:48,  9.29s/it]"
     ]
    },
    {
     "name": "stdout",
     "output_type": "stream",
     "text": [
      "Extracted 6 citations and 6 tags.\n",
      "An error occurred: 'NoneType' object has no attribute 'group'\n",
      "Issue response: \n",
      " {\n",
      "    \"citations\": [\n",
      "        \"Arazzi, M., Nicolazzo, S., Nocera, A., Zippo, M.: The importance of the language for the evolution of online communities: An analysis based on twitter and reddit. Expert Systems with Applications 222, 119847 (2023)\",\n",
      "        \"Audry, S.: Art in the age of machine learning. Mit Press (2021)\",\n",
      "        \"Bianchi, F., Kalluri, P., Durmus, E., Ladhak, F., Cheng, M., Nozza, D., Hashimoto, T., Jurafsky, D., Zou, J., Caliskan, A.: Easily accessible text-to-image generation amplifies demographic stereotypes at large scale. In: Proceedings of the 2023 ACM Conference on Fairness, Accountability, and Transparency. pp. 1493–1504 (2023)\",\n",
      "        \"Brade, S., Wang, B., Sousa, M., Oore, S., Grossman, T.: Promptify: Text-to-image generation through interactive prompt exploration with large language models. In: Proceedings of the 36th Annual ACM Symposium on User Interface Software and Technology. pp. 1–14 (2023)\",\n",
      "        \"Branwen, G.: Gpt-3 creative fiction (2020), https://www.gwern.net/GPT-3\",\n",
      "        \"Brown, T.B.: Language models are few-shot learners. arXiv preprint arXiv:2005.14165 (2020)\",\n",
      "        \"Campello, R.J., Moulavi, D., Sander, J.: Density-based clustering based on hierarchical density estimates. In: Pacific-Asia conference on knowledge discovery and data mining. pp. 160–172. Springer (2013)\",\n",
      "        \"Cetinic, E., She, J.: Understanding and creating art with ai: Review and outlook. ACM Transactions on Multimedia Computing, Communications, and Applications (TOMM) 18(2), 1–22 (2022)\",\n",
      "        \"Chauhan, A., Anand, T., Jauhari, T., Shah, A., Singh, R., Rajaram, A., Vanga, R.: Identifying race and gender bias in stable diffusion ai image generation. In: 2024 IEEE 3rd International Conference on AI in Cybersecurity (ICAIC). pp. 1–6. IEEE (2024)\",\n",
      "        \"Chiou, L.Y., Hung, P.K., Liang, R.H., Wang, C.T.: Designing with ai: an exploration of co-ideation with image generators. In: Proceedings of the 2023 ACM designing interactive systems conference. pp. 1941–1954 (2023)\",\n",
      "        \"Cho, J., Zala, A., Bansal, M.: Dall-eval: Probing the reasoning skills and social biases of text-to-image generation models. In: Proceedings of the IEEE/CVF International Conference on Computer Vision. pp. 3043–3054 (2023)\",\n",
      "        \"CivitAI: Civitai: The home of open-source generative ai (2024), https://civitai.com/\",\n",
      "        \"De la Cruz Paragas, F., Lin, T.T.: Organizing and reframing technological determinism. New Media & Society 18(8), 1528–1546 (2016)\",\n",
      "        \"Davis, N., Hsiao, C.P., Popova, Y., Magerko, B.: An enactive model of creativity for computational collaboration and co-creation. Creativity in the digital age pp. 109–133 (2015)\",\n",
      "        \"Drew, R.: Technological determinism. A companion to popular culture pp. 165–183 (2016)\",\n",
      "        \"Frich, J., Biskjaer, M.M., Dalsgaard, P.: Why hci and creativity research must collaborate to develop new creativity support tools. In: Proceedings of the Technology, Mind, and Society, pp. 1–6 (2018)\",\n",
      "        \"Grba, D.: Deep else: A critical framework for ai art. Digital 2(1), 1–32 (2022)\",\n",
      "        \"Grba, D.: Renegade x: Poetic contingencies in computational art. In: Proceedings of xCoAx 2023, 11th Conference on Computation, Communication, Aesthetics & X. pp. 201–221 (2023)\",\n",
      "        \"Grba, D.: Art notions in the age of (mis)anthropic ai. In: Arts. vol. 13, p. 137. MDPI (2024)\",\n",
      "        \"Hao, Y., Chi, Z., Dong, L., Wei, F.: Optimizing prompts for text-to-image generation. Advances in Neural Information Processing Systems 36 (2024)\",\n",
      "        \"Ko, H.K., Park, G., Jeon, H., Jo, J\n"
     ]
    },
    {
     "name": "stderr",
     "output_type": "stream",
     "text": [
      "Downloading Newest Arxiv Papers: 49it [12:16, 15.05s/it]"
     ]
    },
    {
     "name": "stdout",
     "output_type": "stream",
     "text": [
      "Extracted 36 citations and 15 tags.\n"
     ]
    },
    {
     "name": "stderr",
     "output_type": "stream",
     "text": [
      "Downloading Newest Arxiv Papers: 50it [12:25, 12.99s/it]"
     ]
    },
    {
     "name": "stdout",
     "output_type": "stream",
     "text": [
      "Extracted 21 citations and 11 tags.\n"
     ]
    },
    {
     "name": "stderr",
     "output_type": "stream",
     "text": [
      "Downloading Newest Arxiv Papers: 51it [12:37, 12.70s/it]"
     ]
    },
    {
     "name": "stdout",
     "output_type": "stream",
     "text": [
      "Extracted 39 citations and 11 tags.\n"
     ]
    },
    {
     "name": "stderr",
     "output_type": "stream",
     "text": [
      "Downloading Newest Arxiv Papers: 52it [12:52, 13.46s/it]"
     ]
    },
    {
     "name": "stdout",
     "output_type": "stream",
     "text": [
      "Extracted 63 citations and 11 tags.\n"
     ]
    },
    {
     "name": "stderr",
     "output_type": "stream",
     "text": [
      "Downloading Newest Arxiv Papers: 53it [13:00, 11.76s/it]"
     ]
    },
    {
     "name": "stdout",
     "output_type": "stream",
     "text": [
      "Extracted 24 citations and 10 tags.\n"
     ]
    },
    {
     "name": "stderr",
     "output_type": "stream",
     "text": [
      "Downloading Newest Arxiv Papers: 54it [13:07, 10.48s/it]"
     ]
    },
    {
     "name": "stdout",
     "output_type": "stream",
     "text": [
      "Extracted 21 citations and 16 tags.\n"
     ]
    },
    {
     "name": "stderr",
     "output_type": "stream",
     "text": [
      "Downloading Newest Arxiv Papers: 55it [13:21, 11.35s/it]"
     ]
    },
    {
     "name": "stdout",
     "output_type": "stream",
     "text": [
      "Extracted 48 citations and 21 tags.\n"
     ]
    },
    {
     "name": "stderr",
     "output_type": "stream",
     "text": [
      "Downloading Newest Arxiv Papers: 56it [13:29, 10.58s/it]"
     ]
    },
    {
     "name": "stdout",
     "output_type": "stream",
     "text": [
      "Extracted 28 citations and 10 tags.\n"
     ]
    },
    {
     "name": "stderr",
     "output_type": "stream",
     "text": [
      "Downloading Newest Arxiv Papers: 57it [13:38, 10.14s/it]"
     ]
    },
    {
     "name": "stdout",
     "output_type": "stream",
     "text": [
      "Extracted 29 citations and 18 tags.\n",
      "An error occurred: 'NoneType' object has no attribute 'group'\n",
      "Issue response: \n",
      " ```json\n",
      "{\n",
      "    \"citations\": [\n",
      "        \"With 5.8% cagr, medical imaging market size worth usd 56.53 billion in 2028.\",\n",
      "        \"Human–computer collaboration for skin cancer recognition.\",\n",
      "        \"Language Models are Few-Shot Learners.\",\n",
      "        \"GPT-4 Technical Report.\",\n",
      "        \"GPT-4o.\",\n",
      "        \"Gemini: A Family of Highly Capable Multimodal Models.\",\n",
      "        \"Exploring the boundaries of GPT-4 in radiology.\",\n",
      "        \"Comparing ChatGPT and GPT-4 performance in USMLE soft skill assessments.\",\n",
      "        \"Can Generalist Foundation Models Outcompete Special-purpose Tuning? Case Study in Medicine.\",\n",
      "        \"BiomedCLIP: a multimodal biomedical foundation model pretrained from fifteen million scientific image-text pairs.\",\n",
      "        \"LLava-Med: Training a Large Language-and-Vision Assistant for Biomedicine in One Day.\",\n",
      "        \"Towards a clinically accessible radiology foundation model: open-access and lightweight, with automated evaluation.\",\n",
      "        \"MAIRA-1: A specialised large multimodal model for radiology report generation.\",\n",
      "        \"MAIRA-2: Grounded Radiology Report Generation.\",\n",
      "        \"Simplified transfer learning for chest radiography models using less data.\",\n",
      "        \"ELIXR: Towards a general purpose X-ray artificial intelligence system through alignment of large language models and radiology vision encoders.\",\n",
      "        \"Capabilities of Gemini Models in Medicine.\",\n",
      "        \"Towards Generalist Biomedical AI.\",\n",
      "        \"Gloria: A multimodal global-local representation learning framework for label-efficient medical image recognition.\",\n",
      "        \"A generalist vision language foundation model for diverse biomedical tasks.\",\n",
      "        \"Fact sheet: Biden-Harris administration secures voluntary commitments from leading artificial intelligence companies to manage the risks posed by AI.\",\n",
      "        \"Combining human expertise with artificial intelligence: Experimental evidence from radiology.\",\n",
      "        \"Long-Tailed Classification of Thorax Diseases on Chest X-Ray: A New Benchmark Study.\",\n",
      "        \"Performance of a deep-learning neural network model in assessing skeletal maturity on pediatric hand radiographs.\",\n",
      "        \"Skin lesion classification using loss balancing and ensembles of multi-resolution efficientnets.\",\n",
      "        \"Clinical skin lesion diagnosis using representations inspired by dermatologist criteria.\",\n",
      "        \"Dense Steerable Filter CNNs for Exploiting Rotational Symmetry in Histology Images.\",\n",
      "        \"Optic-net: A Novel Convolutional Neural Network for Diagnosis of Retinal Diseases from Optical Tomography Images.\",\n",
      "        \"Identifying medical diagnoses and treatable diseases by image-based deep learning.\",\n",
      "        \"Chexagent: Towards a foundation model for chest x-ray interpretation.\",\n",
      "        \"Visual instruction tuning.\",\n",
      "        \"Improving chest X-ray report generation by leveraging warm starting.\",\n",
      "        \"Improving factual completeness and consistency of image-to-text radiology report generation.\",\n",
      "        \"Interactive and explainable region-guided radiology report generation.\",\n",
      "        \"Generating radiology reports via memory-driven transformer.\",\n",
      "        \"Text-image embedding network for common thorax disease classification and reporting in chest x-rays.\",\n",
      "        \"Chexbert: combining automatic labelers and expert annotations for accurate radiology report labeling using bert.\",\n",
      "        \"Radgraph: Extracting clinical entities and relations from radiology reports.\",\n",
      "        \"Microsoft coco captions: Data collection and evaluation server.\",\n",
      "        \"Med-flamingo: a multimodal medical few-shot learner.\",\n",
      "        \"Rad-dino: Exploring scalable medical image encoders beyond text supervision.\",\n",
      "        \"3d-mir: A benchmark and empirical study on 3d medical image retrieval in radiology.\",\n",
      "        \"A generalist vision–language foundation model for diverse biomedical tasks.\",\n",
      "        \"Florence: A New Foundation Model for Computer Vision.\",\n",
      "        \"Learning transferable visual models from natural language supervision.\",\n",
      "        \"Dual attention vision transformers.\",\n",
      "        \"Unified Contrastive Learning in Image-Text-Label Space.\",\n",
      "        \"MIMIC-CXR, a de-identified publicly available database of chest radiographs with free-text reports.\",\n",
      "        \"The IRMA code for unique classification of medical images.\",\n",
      "        \"The RSNA Pediatric Bone Age Machine Learning Challenge.\",\n",
      "        \"Skeletal Development of the Hand and Wrist: A Radiographic Atlas and Digital Bone Age Companion.\",\n",
      "        \"The University of Pennsylvania glioblastoma (UPenn-GBM) cohort: advanced MRI, clinical, genomics, & radiomics.\",\n",
      "        \"The Cancer Genome Atlas Sarcoma Collection.\",\n",
      "        \"A Benchmark for Automatic Visual Classification of Clinical Skin Disease Images.\",\n",
      "        \"Skin lesion analysis toward melanoma detection: A challenge at the 2017 International symposium on biomedical imaging (ISBI), hosted by the international skin imaging collaboration (ISIC).\",\n",
      "        \"Skin lesion analysis toward melanoma detection 2018: A challenge hosted by the International skin imaging collaboration (ISIC).\",\n",
      "        \"BCN20000: Dermoscopic lesions in the wild.\",\n",
      "        \"Diagnostic Assessment of Deep Learning Algorithms for Detection of Lymph Node Metastases in Women With Breast Cancer.\",\n",
      "        \"RSNA Screening Mammography Breast Cancer Detection.\"\n",
      "    ],\n",
      "    \"tags\": [\n",
      "        \"medical imaging\",\n",
      "        \"machine learning\",\n",
      "        \"AI\n",
      "An error occurred: 'NoneType' object has no attribute 'group'\n",
      "Issue response: \n",
      " ```json\n",
      "{\n",
      "    \"citations\": [\n",
      "        \"With 5.8% cagr, medical imaging market size worth usd 56.53 billion in 2028.\",\n",
      "        \"Human–computer collaboration for skin cancer recognition\",\n",
      "        \"Language Models are Few-Shot Learners\",\n",
      "        \"GPT-4 Technical Report\",\n",
      "        \"GPT-4o\",\n",
      "        \"Gemini: A Family of Highly Capable Multimodal Models\",\n",
      "        \"Exploring the boundaries of GPT-4 in radiology\",\n",
      "        \"Comparing ChatGPT and GPT-4 performance in USMLE soft skill assessments\",\n",
      "        \"Can Generalist Foundation Models Outcompete Special-purpose Tuning? Case Study in Medicine\",\n",
      "        \"BiomedCLIP: a multimodal biomedical foundation model pretrained from fifteen million scientific image-text pairs\",\n",
      "        \"LLava-Med: Training a Large Language-and-Vision Assistant for Biomedicine in One Day\",\n",
      "        \"Towards a clinically accessible radiology foundation model: open-access and lightweight, with automated evaluation\",\n",
      "        \"MAIRA-1: A specialised large multimodal model for radiology report generation\",\n",
      "        \"MAIRA-2: Grounded Radiology Report Generation\",\n",
      "        \"Simplified transfer learning for chest radiography models using less data\",\n",
      "        \"ELIXR: Towards a general purpose X-ray artificial intelligence system through alignment of large language models and radiology vision encoders\",\n",
      "        \"Capabilities of Gemini Models in Medicine\",\n",
      "        \"Towards Generalist Biomedical AI\",\n",
      "        \"Gloria: A multimodal global-local representation learning framework for label-efficient medical image recognition\",\n",
      "        \"A generalist vision–language foundation model for diverse biomedical tasks\",\n",
      "        \"Fact sheet: Biden-Harris administration secures voluntary commitments from leading artificial intelligence companies to manage the risks posed by AI\",\n",
      "        \"Combining human expertise with artificial intelligence: Experimental evidence from radiology\",\n",
      "        \"Long-Tailed Classification of Thorax Diseases on Chest X-Ray: A New Benchmark Study\",\n",
      "        \"Performance of a deep-learning neural network model in assessing skeletal maturity on pediatric hand radiographs\",\n",
      "        \"Skin lesion classification using loss balancing and ensembles of multi-resolution efficientnets\",\n",
      "        \"Clinical skin lesion diagnosis using representations inspired by dermatologist criteria\",\n",
      "        \"Dense Steerable Filter CNNs for Exploiting Rotational Symmetry in Histology Images\",\n",
      "        \"Optic-net: A Novel Convolutional Neural Network for Diagnosis of Retinal Diseases from Optical Tomography Images\",\n",
      "        \"Identifying medical diagnoses and treatable diseases by image-based deep learning\",\n",
      "        \"Chexagent: Towards a foundation model for chest x-ray interpretation\",\n",
      "        \"Visual instruction tuning\",\n",
      "        \"Improving chest X-ray report generation by leveraging warm starting\",\n",
      "        \"Improving factual completeness and consistency of image-to-text radiology report generation\",\n",
      "        \"Interactive and explainable region-guided radiology report generation\",\n",
      "        \"Generating radiology reports via memory-driven transformer\",\n",
      "        \"Text-image embedding network for common thorax disease classification and reporting in chest x-rays\",\n",
      "        \"Chexbert: combining automatic labelers and expert annotations for accurate radiology report labeling using bert\",\n",
      "        \"Radgraph: Extracting clinical entities and relations from radiology reports\",\n",
      "        \"Microsoft coco captions: Data collection and evaluation server\",\n",
      "        \"Med-flamingo: a multimodal medical few-shot learner\",\n",
      "        \"Rad-dino: Exploring scalable medical image encoders beyond text supervision\",\n",
      "        \"3d-mir: A benchmark and empirical study on 3d medical image retrieval in radiology\",\n",
      "        \"A generalist vision–language foundation model for diverse biomedical tasks\",\n",
      "        \"Florence: A New Foundation Model for Computer Vision\",\n",
      "        \"Learning transferable visual models from natural language supervision\",\n",
      "        \"Dual attention vision transformers\",\n",
      "        \"Unified Contrastive Learning in Image-Text-Label Space\",\n",
      "        \"MIMIC-CXR, a de-identified publicly available database of chest radiographs with free-text reports\",\n",
      "        \"The IRMA code for unique classification of medical images\",\n",
      "        \"The RSNA Pediatric Bone Age Machine Learning Challenge\",\n",
      "        \"Skeletal Development of the Hand and Wrist: A Radiographic Atlas and Digital Bone Age Companion\",\n",
      "        \"The University of Pennsylvania glioblastoma (UPenn-GBM) cohort: advanced MRI, clinical, genomics, & radiomics\",\n",
      "        \"The Cancer Genome Atlas Sarcoma Collection (TCGA-SARC) (Version 3) [Data set]. The Cancer Imaging Archive.\",\n",
      "        \"A Benchmark for Automatic Visual Classification of Clinical Skin Disease Images\",\n",
      "        \"Skin lesion analysis toward melanoma detection: A challenge at the 2017 International symposium on biomedical imaging (ISBI)\",\n",
      "        \"Skin lesion analysis toward melanoma detection 2018: A challenge hosted by the International skin imaging collaboration (ISIC)\",\n",
      "        \"BCN20000: Dermoscopic lesions in the wild\",\n",
      "        \"Diagnostic Assessment of Deep Learning Algorithms for Detection of Lymph Node Metastases in Women With Breast Cancer\",\n",
      "        \"RSNA Screening Mammography Breast Cancer Detection. 2022.\",\n",
      "        \"The Lung Image Database Consortium image collection\n"
     ]
    },
    {
     "name": "stderr",
     "output_type": "stream",
     "text": [
      "Downloading Newest Arxiv Papers: 58it [14:37, 24.58s/it]"
     ]
    },
    {
     "name": "stdout",
     "output_type": "stream",
     "text": [
      "An error occurred: 'NoneType' object has no attribute 'group'\n",
      "Issue response: \n",
      " ```json\n",
      "{\n",
      "    \"citations\": [\n",
      "        \"With 5.8% cagr, medical imaging market size worth usd 56.53 billion in 2028\",\n",
      "        \"Human–computer collaboration for skin cancer recognition\",\n",
      "        \"Language Models are Few-Shot Learners\",\n",
      "        \"GPT-4 Technical Report\",\n",
      "        \"GPT-4o\",\n",
      "        \"Gemini: A Family of Highly Capable Multimodal Models\",\n",
      "        \"Exploring the boundaries of GPT-4 in radiology\",\n",
      "        \"Comparing ChatGPT and GPT-4 performance in USMLE soft skill assessments\",\n",
      "        \"Can Generalist Foundation Models Outcompete Special-purpose Tuning? Case Study in Medicine\",\n",
      "        \"BiomedCLIP: a multimodal biomedical foundation model pretrained from fifteen million scientific image-text pairs\",\n",
      "        \"LLava-Med: Training a Large Language-and-Vision Assistant for Biomedicine in One Day\",\n",
      "        \"Towards a clinically accessible radiology foundation model: open-access and lightweight, with automated evaluation\",\n",
      "        \"MAIRA-1: A specialised large multimodal model for radiology report generation\",\n",
      "        \"MAIRA-2: Grounded Radiology Report Generation\",\n",
      "        \"Simplified transfer learning for chest radiography models using less data\",\n",
      "        \"ELIXR: Towards a general purpose X-ray artificial intelligence system through alignment of large language models and radiology vision encoders\",\n",
      "        \"Capabilities of Gemini Models in Medicine\",\n",
      "        \"Towards Generalist Biomedical AI\",\n",
      "        \"Gloria: A multimodal global-local representation learning framework for label-efficient medical image recognition\",\n",
      "        \"A generalist vision–language foundation model for diverse biomedical tasks\",\n",
      "        \"Fact sheet: Biden-Harris administration secures voluntary commitments from leading artificial intelligence companies to manage the risks posed by AI\",\n",
      "        \"Combining human expertise with artificial intelligence: Experimental evidence from radiology\",\n",
      "        \"Long-Tailed Classification of Thorax Diseases on Chest X-Ray: A New Benchmark Study\",\n",
      "        \"Performance of a deep-learning neural network model in assessing skeletal maturity on pediatric hand radiographs\",\n",
      "        \"Skin lesion classification using loss balancing and ensembles of multi-resolution efficientnets\",\n",
      "        \"Clinical skin lesion diagnosis using representations inspired by dermatologist criteria\",\n",
      "        \"Dense Steerable Filter CNNs for Exploiting Rotational Symmetry in Histology Images\",\n",
      "        \"Optic-net: A Novel Convolutional Neural Network for Diagnosis of Retinal Diseases from Optical Tomography Images\",\n",
      "        \"Identifying medical diagnoses and treatable diseases by image-based deep learning\",\n",
      "        \"Chexagent: Towards a foundation model for chest x-ray interpretation\",\n",
      "        \"Visual instruction tuning\",\n",
      "        \"Improving chest X-ray report generation by leveraging warm starting\",\n",
      "        \"Improving factual completeness and consistency of image-to-text radiology report generation\",\n",
      "        \"Interactive and explainable region-guided radiology report generation\",\n",
      "        \"Generating radiology reports via memory-driven transformer\",\n",
      "        \"Text-image embedding network for common thorax disease classification and reporting in chest x-rays\",\n",
      "        \"Chexbert: combining automatic labelers and expert annotations for accurate radiology report labeling using bert\",\n",
      "        \"Radgraph: Extracting clinical entities and relations from radiology reports\",\n",
      "        \"Microsoft coco captions: Data collection and evaluation server\",\n",
      "        \"Med-flamingo: a multimodal medical few-shot learner\",\n",
      "        \"Rad-dino: Exploring scalable medical image encoders beyond text supervision\",\n",
      "        \"3d-mir: A benchmark and empirical study on 3d medical image retrieval in radiology\",\n",
      "        \"A generalist vision–language foundation model for diverse biomedical tasks\",\n",
      "        \"Florence: A New Foundation Model for Computer Vision\",\n",
      "        \"Learning transferable visual models from natural language supervision\",\n",
      "        \"DaViT: Dual attention vision transformers\",\n",
      "        \"Unified Contrastive Learning in Image-Text-Label Space\",\n",
      "        \"MIMIC-CXR, a de-identified publicly available database of chest radiographs with free-text reports\",\n",
      "        \"The IRMA code for unique classification of medical images\",\n",
      "        \"The RSNA Pediatric Bone Age Machine Learning Challenge.\",\n",
      "        \"Skeletal Development of the Hand and Wrist: A Radiographic Atlas and Digital Bone Age Companion\",\n",
      "        \"The University of Pennsylvania glioblastoma (UPenn-GBM) cohort: advanced MRI, clinical, genomics, & radiomics\",\n",
      "        \"The Cancer Genome Atlas Sarcoma Collection (TCGA-SARC) (Version 3) [Data set]. The Cancer Imaging Archive.\",\n",
      "        \"A Benchmark for Automatic Visual Classification of Clinical Skin Disease Images\",\n",
      "        \"Skin lesion analysis toward melanoma detection: A challenge at the 2017 International symposium on biomedical imaging (ISBI), hosted by the international skin imaging collaboration (ISIC)\",\n",
      "        \"Skin lesion analysis toward melanoma detection 2018: A challenge hosted by the International skin imaging collaboration (ISIC)\",\n",
      "        \"Diagnostic Assessment of Deep Learning Algorithms for Detection of Lymph Node Metastases in Women With Breast Cancer\",\n",
      "        \"RSNA Screening Mammography Breast Cancer Detection. 2022.\",\n",
      "        \"The Lung Image Database Consortium image\n"
     ]
    },
    {
     "name": "stderr",
     "output_type": "stream",
     "text": [
      "Downloading Newest Arxiv Papers: 59it [14:46, 20.06s/it]"
     ]
    },
    {
     "name": "stdout",
     "output_type": "stream",
     "text": [
      "Extracted 16 citations and 12 tags.\n",
      "An error occurred: 'NoneType' object has no attribute 'group'\n",
      "Issue response: \n",
      " {\n",
      "    \"citations\": [\n",
      "        \"Consequences of Dirac’s theory of positrons\",\n",
      "        \"Foundations of the new field theory\",\n",
      "        \"Nonlinear Electrodynamics from Quantized Strings\",\n",
      "        \"Covariant String Field Theory and Effective Action\",\n",
      "        \"Aspects of Born-Infeld theory and string / M theory\",\n",
      "        \"Regular black hole in general relativity coupled to non-linear electrodynamics\",\n",
      "        \"Born-Infeld black hole in the isolated horizon framework\",\n",
      "        \"Regular electrically charged structures in nonlinear electrodynamics coupled to general relativity\",\n",
      "        \"Regular black holes with a nonlinear electrodynamics source\",\n",
      "        \"Nonlinear electrodynamics and black holes\",\n",
      "        \"Regular magnetic black holes and monopoles from nonlinear electrodynamics\",\n",
      "        \"Born-Infeld cosmologies\",\n",
      "        \"Nonsingular FRW cosmology and nonlinear electrodynamics\",\n",
      "        \"Born-Infeld quantum condensate as dark energy in the universe\",\n",
      "        \"Non-linear electrodynamics and the acceleration of the universe\",\n",
      "        \"DBI in the sky\",\n",
      "        \"Cosmological Effects of Nonlinear Electrodynamics\",\n",
      "        \"Homogeneous and isotropic cosmologies with nonlinear electromagnetic radiation\",\n",
      "        \"Dark Energy Properties in DBI Theory\",\n",
      "        \"Universe acceleration and nonlinear electrodynamics\",\n",
      "        \"Acceleration of Universe by Nonlinear Electromagnetic Fields\",\n",
      "        \"The Large N limit of superconformal field theories and supergravity\",\n",
      "        \"Anti-de Sitter space and holography\",\n",
      "        \"Large N field theories, string theory and gravity\",\n",
      "        \"Gauge/gravity duality\",\n",
      "        \"Holographic quantum matter\",\n",
      "        \"Holographic Superconductor\",\n",
      "        \"Holographic Superconductors\",\n",
      "        \"Lectures on holographic methods for condensed matter physics\",\n",
      "        \"Lectures on Holographic Superfluidity and Superconductivity\",\n",
      "        \"Relaxed superconductors\",\n",
      "        \"A Simple Holographic Superconductor with Momentum Relaxation\",\n",
      "        \"Ward identity and Homes’ law in a holographic superconductor with momentum relaxation\",\n",
      "        \"Holographic Superconductors with Power-Maxwell field\",\n",
      "        \"Holographic superconductors in the Born-Infeld electrodynamics\",\n",
      "        \"Analytic study of properties of holographic superconductors in Born-Infeld electrodynamics\",\n",
      "        \"Notes on holographic superconductor models with the nonlinear electrodynamics\",\n",
      "        \"Non-equilibrium condensation process in holographic superconductor with nonlinear electrodynamics\",\n",
      "        \"On analytical study of holographic superconductors with Born–Infeld electrodynamics\",\n",
      "        \"Effects of backreaction and exponential nonlinear electrodynamics on the holographic superconductors\",\n",
      "        \"Conductivity of higher dimensional holographic superconductors with nonlinear electrodynamics\",\n",
      "        \"One-dimensional backreacting holographic superconductors with exponential nonlinear electrodynamics\",\n",
      "        \"Conductivity of the one-dimensional holographic p-wave superconductors in the presence of nonlinear electrodynamics\",\n",
      "        \"Complexity for holographic superconductors with the nonlinear electrodynamics\",\n",
      "        \"Construction of Superconducting Dome and Emergence of Quantum Critical Region in Holography\",\n",
      "        \"Holographic superconductivity in M-Theory\",\n",
      "        \"Quantum Criticality and Holographic Superconductors in M-theory\",\n",
      "        \"Holographic Competition of Phases and Superconductivity\",\n",
      "        \"Under The Dome: Doped holographic superconductors with broken translational symmetry\",\n",
      "        \"Doped Holographic Superconductor in an External Magnetic Field\",\n",
      "        \"The superconducting dome for holographic doped Mott insulator with hyperscaling violation\",\n",
      "        \"Doped holographic superconductors in the Gubser–Rocha model\",\n",
      "        \"Quantum Criticality and DBI Magneto-resistance\",\n",
      "        \"Holographic model for the anomalous scalings of the cuprates\",\n",
      "        \"Anomalous scalings of cuprate strange metals from nonlinear electrodynamics\",\n",
      "        \"Holographic DC conductivity for backreacted NLED in massive gravity\",\n",
      "        \"On Effective Holographic Mott Insulators\",\n",
      "        \"Deep learning and the AdS/CFT correspondence\",\n",
      "        \"Holography as deep learning\",\n",
      "        \"Holographic Transformer\",\n",
      "        \"Deep learning bulk spacetime from boundary optical conductivity\",\n",
      "        \"Holographic reconstruction of black hole spacetime: machine learning and entanglement entropy\",\n",
      "        \"QCD Phase Diagram at finite Magnetic Field and Chemical Potential: A Holographic Approach Using Machine Learning\",\n",
      "        \"Impurity-driven metal-insulator transitions in holography\",\n",
      "        \"Physics Informed Deep Learning (Part I): Data-driven Solutions of Nonlinear Partial Differential Equations\",\n",
      "        \"Attention Is All You Need\",\n",
      "        \"KAN: Kolmogorov-Arnold Networks\",\n",
      "        \"Adam: A Method for Stochastic Optimization\",\n",
      "        \"Quantum Phase Transitions\",\n",
      "        \"Positive Energy in anti-De Sitter Backgrounds and Gauged Extended Supergravity\",\n",
      "        \"Stability in Gauged Extended Supergravity\n",
      "An error occurred: 'NoneType' object has no attribute 'group'\n",
      "Issue response: \n",
      " ```json\n",
      "{\n",
      "    \"citations\": [\n",
      "        \"Consequences of Dirac’s theory of positrons\",\n",
      "        \"Foundations of the new field theory\",\n",
      "        \"Nonlinear Electrodynamics from Quantized Strings\",\n",
      "        \"Covariant String Field Theory and Effective Action\",\n",
      "        \"Aspects of Born-Infeld theory and string / M theory\",\n",
      "        \"Regular black hole in general relativity coupled to non-linear electrodynamics\",\n",
      "        \"Born-Infeld black hole in the isolated horizon framework\",\n",
      "        \"Regular electrically charged structures in nonlinear electrodynamics coupled to general relativity\",\n",
      "        \"Black holes with a nonlinear electrodynamics source\",\n",
      "        \"Nonlinear electrodynamics and black holes\",\n",
      "        \"Regular magnetic black holes and monopoles from nonlinear electrodynamics\",\n",
      "        \"Born-Infeld cosmologies\",\n",
      "        \"Nonsingular FRW cosmology and nonlinear electrodynamics\",\n",
      "        \"Born-Infeld quantum condensate as dark energy in the universe\",\n",
      "        \"Non-linear electrodynamics and the acceleration of the universe\",\n",
      "        \"DBI in the sky\",\n",
      "        \"Cosmological Effects of Nonlinear Electrodynamics\",\n",
      "        \"Homogeneous and isotropic cosmologies with nonlinear electromagnetic radiation\",\n",
      "        \"Dark Energy Properties in DBI Theory\",\n",
      "        \"Universe acceleration and nonlinear electrodynamics\",\n",
      "        \"Acceleration of Universe by Nonlinear Electromagnetic Fields\",\n",
      "        \"The Large N limit of superconformal field theories and supergravity\",\n",
      "        \"Anti-de Sitter space and holography\",\n",
      "        \"Large N field theories, string theory and gravity\",\n",
      "        \"Gauge/gravity duality\",\n",
      "        \"Introduction to Gauge/Gravity Duality\",\n",
      "        \"Lectures on quantum supreme matter\",\n",
      "        \"Building a Holographic Superconductor\",\n",
      "        \"Holographic Superconductors\",\n",
      "        \"Lectures on holographic methods for condensed matter physics\",\n",
      "        \"Lectures on Holographic Superfluidity and Superconductivity\",\n",
      "        \"Relaxed superconductors\",\n",
      "        \"A Simple Holographic Superconductor with Momentum Relaxation\",\n",
      "        \"Ward identity and Homes’ law in a holographic superconductor with momentum relaxation\",\n",
      "        \"Holographic Superconductors with Power-Maxwell field\",\n",
      "        \"Holographic superconductors in the Born-Infeld electrodynamics\",\n",
      "        \"Analytic study of properties of holographic superconductors in Born-Infeld electrodynamics\",\n",
      "        \"Notes on holographic superconductor models with the nonlinear electrodynamics\",\n",
      "        \"Non-equilibrium condensation process in holographic superconductor with nonlinear electrodynamics\",\n",
      "        \"On analytical study of holographic superconductors with Born–Infeld electrodynamics\",\n",
      "        \"Effects of backreaction and exponential nonlinear electrodynamics on the holographic superconductors\",\n",
      "        \"Conductivity of higher dimensional holographic superconductors with nonlinear electrodynamics\",\n",
      "        \"One-dimensional backreacting holographic superconductors with exponential nonlinear electrodynamics\",\n",
      "        \"Conductivity of the one-dimensional holographic p-wave superconductors in the presence of nonlinear electrodynamics\",\n",
      "        \"Complexity for holographic superconductors with the nonlinear electrodynamics\",\n",
      "        \"Construction of Superconducting Dome and Emergence of Quantum Critical Region in Holography\",\n",
      "        \"Holographic superconductivity in M-Theory\",\n",
      "        \"Quantum Criticality and Holographic Superconductors in M-theory\",\n",
      "        \"Holographic Competition of Phases and Superconductivity\",\n",
      "        \"Doped holographic superconductors with broken translational symmetry\",\n",
      "        \"Doped Holographic Superconductor in an External Magnetic Field\",\n",
      "        \"The superconducting dome for holographic doped Mott insulator with hyperscaling violation\",\n",
      "        \"Doped holographic superconductors in the Gubser–Rocha model\",\n",
      "        \"Quantum Criticality and DBI Magneto-resistance\",\n",
      "        \"Holographic model for the anomalous scalings of the cuprates\",\n",
      "        \"Anomalous scalings of cuprate strange metals from nonlinear electrodynamics\",\n",
      "        \"Holographic DC conductivity for backreacted NLED in massive gravity\",\n",
      "        \"On Effective Holographic Mott Insulators\",\n",
      "        \"Deep learning and the AdS/CFT correspondence\",\n",
      "        \"Holography as deep learning\",\n",
      "        \"Holographic reconstruction of black hole spacetime: machine learning and entanglement entropy\",\n",
      "        \"QCD Phase Diagram at finite Magnetic Field and Chemical Potential: A Holographic Approach Using Machine Learning\",\n",
      "        \"Impurity-driven metal-insulator transitions in holography\",\n",
      "        \"Physics Informed Deep Learning (Part I): Data-driven Solutions of Nonlinear Partial Differential Equations\",\n",
      "        \"Attention Is All You Need\",\n",
      "        \"KAN: Kolmogorov-Arnold Networks\",\n",
      "        \"Adam: A Method for Stochastic Optimization\",\n",
      "        \"Quantum Phase Transitions\",\n",
      "        \"Positive Energy in anti-De Sitter Backgrounds and Gauged Extended Supergravity\",\n",
      "        \"Stability in Gauged Extended Supergravity\",\n",
      "        \"Dome-shaped magnetic order\n"
     ]
    },
    {
     "name": "stderr",
     "output_type": "stream",
     "text": [
      "Downloading Newest Arxiv Papers: 60it [15:38, 29.44s/it]"
     ]
    },
    {
     "name": "stdout",
     "output_type": "stream",
     "text": [
      "An error occurred: 'NoneType' object has no attribute 'group'\n",
      "Issue response: \n",
      " ```json\n",
      "{\n",
      "    \"citations\": [\n",
      "        \"Consequences of Dirac’s theory of positrons\",\n",
      "        \"Foundations of the new field theory\",\n",
      "        \"Nonlinear Electrodynamics from Quantized Strings\",\n",
      "        \"Covariant String Field Theory and Effective Action\",\n",
      "        \"Aspects of Born-Infeld theory and string / M theory\",\n",
      "        \"Regular black hole in general relativity coupled to non-linear electrodynamics\",\n",
      "        \"Born-Infeld black hole in the isolated horizon framework\",\n",
      "        \"Regular electrically charged structures in nonlinear electrodynamics coupled to general relativity\",\n",
      "        \"Regular black holes with a nonlinear electrodynamics source\",\n",
      "        \"Nonlinear electrodynamics and black holes\",\n",
      "        \"Regular magnetic black holes and monopoles from nonlinear electrodynamics\",\n",
      "        \"Born-Infeld cosmologies\",\n",
      "        \"Nonsingular FRW cosmology and nonlinear electrodynamics\",\n",
      "        \"Born-Infeld quantum condensate as dark energy in the universe\",\n",
      "        \"Non-linear electrodynamics and the acceleration of the universe\",\n",
      "        \"DBI in the sky\",\n",
      "        \"Cosmological Effects of Nonlinear Electrodynamics\",\n",
      "        \"Homogeneous and isotropic cosmologies with nonlinear electromagnetic radiation\",\n",
      "        \"Dark Energy Properties in DBI Theory\",\n",
      "        \"Universe acceleration and nonlinear electrodynamics\",\n",
      "        \"Acceleration of Universe by Nonlinear Electromagnetic Fields\",\n",
      "        \"The Large N limit of superconformal field theories and supergravity\",\n",
      "        \"Anti-de Sitter space and holography\",\n",
      "        \"Large N field theories, string theory and gravity\",\n",
      "        \"Gauge/gravity duality\",\n",
      "        \"Introduction to Gauge/Gravity Duality\",\n",
      "        \"Lectures on quantum supreme matter\",\n",
      "        \"Building a Holographic Superconductor\",\n",
      "        \"Holographic Superconductors\",\n",
      "        \"Lectures on holographic methods for condensed matter physics\",\n",
      "        \"Lectures on Holographic Superfluidity and Superconductivity\",\n",
      "        \"Relaxed superconductors\",\n",
      "        \"A Simple Holographic Superconductor with Momentum Relaxation\",\n",
      "        \"Ward identity and Homes’ law in a holographic superconductor with momentum relaxation\",\n",
      "        \"Holographic Superconductors with Power-Maxwell field\",\n",
      "        \"Holographic superconductors in the Born-Infeld electrodynamics\",\n",
      "        \"Analytic study of properties of holographic superconductors in Born-Infeld electrodynamics\",\n",
      "        \"Notes on holographic superconductor models with the nonlinear electrodynamics\",\n",
      "        \"Non-equilibrium condensation process in holographic superconductor with nonlinear electrodynamics\",\n",
      "        \"On analytical study of holographic superconductors with Born–Infeld electrodynamics\",\n",
      "        \"Effects of backreaction and exponential nonlinear electrodynamics on the holographic superconductors\",\n",
      "        \"Conductivity of higher dimensional holographic superconductors with nonlinear electrodynamics\",\n",
      "        \"One-dimensional backreacting holographic superconductors with exponential nonlinear electrodynamics\",\n",
      "        \"Conductivity of the one-dimensional holographic p-wave superconductors in the presence of nonlinear electrodynamics\",\n",
      "        \"Complexity for holographic superconductors with the nonlinear electrodynamics\",\n",
      "        \"Construction of Superconducting Dome and Emergence of Quantum Critical Region in Holography\",\n",
      "        \"Holographic superconductivity in M-Theory\",\n",
      "        \"Quantum Criticality and Holographic Superconductors in M-theory\",\n",
      "        \"Holographic Competition of Phases and Superconductivity\",\n",
      "        \"Under The Dome: Doped holographic superconductors with broken translational symmetry\",\n",
      "        \"Doped Holographic Superconductor in an External Magnetic Field\",\n",
      "        \"The superconducting dome for holographic doped Mott insulator with hyperscaling violation\",\n",
      "        \"Doped holographic superconductors in the Gubser–Rocha model\",\n",
      "        \"Quantum Criticality and DBI Magneto-resistance\",\n",
      "        \"Holographic model for the anomalous scalings of the cuprates\",\n",
      "        \"Anomalous scalings of cuprate strange metals from nonlinear electrodynamics\",\n",
      "        \"Holographic DC conductivity for backreacted NLED in massive gravity\",\n",
      "        \"On Effective Holographic Mott Insulators\",\n",
      "        \"Deep learning and the AdS/CFT correspondence\",\n",
      "        \"Holography as deep learning\",\n",
      "        \"Holographic Transformer\",\n",
      "        \"Deep learning bulk spacetime from boundary optical conductivity\",\n",
      "        \"Holographic reconstruction of black hole spacetime: machine learning and entanglement entropy\",\n",
      "        \"QCD Phase Diagram at finite Magnetic Field and Chemical Potential: A Holographic Approach Using Machine Learning\",\n",
      "        \"Impurity-driven metal-insulator transitions in holography\",\n",
      "        \"Physics Informed Deep Learning (Part I): Data-driven Solutions of Nonlinear Partial Differential Equations\",\n",
      "        \"Attention Is All You Need\",\n",
      "        \"KAN: Kolmogorov-Arnold Networks\",\n",
      "        \"Adam: A Method for Stochastic Optimization\",\n",
      "        \"Quantum Phase Transitions\",\n",
      "        \"Positive Energy in anti-De Sitter Backgrounds and\n"
     ]
    },
    {
     "name": "stderr",
     "output_type": "stream",
     "text": [
      "Downloading Newest Arxiv Papers: 61it [15:52, 25.02s/it]"
     ]
    },
    {
     "name": "stdout",
     "output_type": "stream",
     "text": [
      "Extracted 42 citations and 16 tags.\n"
     ]
    },
    {
     "name": "stderr",
     "output_type": "stream",
     "text": [
      "Downloading Newest Arxiv Papers: 62it [16:00, 19.98s/it]"
     ]
    },
    {
     "name": "stdout",
     "output_type": "stream",
     "text": [
      "Extracted 24 citations and 12 tags.\n",
      "An error occurred: 'NoneType' object has no attribute 'group'\n",
      "Issue response: \n",
      " {\n",
      "    \"citations\": [\n",
      "        \"Radiative weak decays of charm mesons, Phys. Rev. D 52 (1995) 6383 [hep-ph/9502329]\",\n",
      "        \"Theoretical perspective on rare and radiative charm decays, in 7th International Workshop on Charm Physics, 9, 2015 [1509.01997]\",\n",
      "        \"Observation of radiative decay D0 →ϕγ, Phys. Rev. Lett. 92 (2004) 101803 [hep-ex/0308037]\",\n",
      "        \"Observation of D0 →ρ0γ and search for CP violation in radiative charm decays, Phys. Rev. Lett. 118 (2017) 051801 [1603.03257]\",\n",
      "        \"Measurement of the Branching Fractions of the Radiative Charm Decays D0 →¯K∗0γ and D0 →ϕγ, Phys. Rev. D 78 (2008) 071101 [0808.1838]\",\n",
      "        \"Radiative decay modes of the D0 meson, Phys. Rev. D 58 (1998) 092001 [hep-ex/9803022]\",\n",
      "        \"Measurement of the integrated luminosity of the data collected at 3.773 GeV by BESIII from 2021 to 2024, 2406.05827\",\n",
      "        \"The D →ρ semileptonic and radiative decays within the light-cone sum rules, Eur. Phys. J. C 80 (2020) 194 [1808.06412]\",\n",
      "        \"Calculation of long distance effects in exclusive weak radiative decays of B meson, Phys. Lett. B 358 (1995) 129 [hep-ph/9506242]\",\n",
      "        \"Rare radiative charm decays within the standard model and beyond, JHEP 08 (2017) 091 [1701.06392]\",\n",
      "        \"Long distance c →u gamma effects in weak radiative decays of D mesons, Phys. Rev. D 56 (1997) 4302 [hep-ph/9705327]\",\n",
      "        \"Long distance contributions in D →V γ decays, Eur. Phys. J. C 6 (1999) 471 [hep-ph/9801279]\",\n",
      "        \"Design and Construction of the BESIII Detector, Nucl. Instrum. Meth. A 614 (2010) 345 [0911.4960]\",\n",
      "        \"BEPCII Performance and Beam Dynamics Studies on Luminosity, in 7th International Particle Accelerator Conference, p. TUYA01, 2016, DOI\",\n",
      "        \"Future Physics Programme of BESIII, Chin. Phys. C 44 (2020) 040001 [1912.05983]\",\n",
      "        \"Study of mrpc technology for besiii endcap-tof upgrade, Radiation Detection Technology and Methods 1 (2017) 1\",\n",
      "        \"ROOT::rookeyspdf\",\n",
      "        \"Incorporating multiplicative systematic errors in branching ratio limits, physics/0605236\"\n",
      "    ],\n",
      "    \"tags\": [\n",
      "        \"radiative decays\",\n",
      "        \"BESIII\",\n",
      "        \"D+ →γρ+\",\n",
      "        \"D+ →γK∗+\",\n",
      "        \"QCD\",\n",
      "        \"branching fractions\",\n",
      "        \"data analysis\",\n",
      "        \"e+e− annihilation\",\n",
      "        \"particle physics\",\n",
      "        \"Monte Carlo simulation\"\n",
      "    ]\n",
      "}\n"
     ]
    },
    {
     "name": "stderr",
     "output_type": "stream",
     "text": [
      "Downloading Newest Arxiv Papers: 63it [16:21, 20.01s/it]"
     ]
    },
    {
     "name": "stdout",
     "output_type": "stream",
     "text": [
      "Extracted 26 citations and 11 tags.\n",
      "An error occurred: 'NoneType' object has no attribute 'group'\n",
      "Issue response: \n",
      " ```json\n",
      "{\n",
      "    \"citations\": [\n",
      "        \"Fu C, Di Fulvio A, Clarke S, Wentzloff D, Pozzi S and Kim H 2018 Annals of Nuclear Energy 120 410–421 ISSN 0306-4549\",\n",
      "        \"Ai P, Wang D, Huang G, Fang N, Xu D and Zhang F 2019 Journal of Instrumentation 14 P03002\",\n",
      "        \"Aarrestad T et al. 2021 Machine Learning: Science and Technology 2 045015\",\n",
      "        \"Khoda E E et al. 2023 Machine Learning: Science and Technology 4 025004\",\n",
      "        \"Ai P, Deng Z, Wang Y, Gong H, Ran X and Lang Z 2023 IEEE Transactions on Nuclear Science 70 971–978\",\n",
      "        \"Doucet E et al. 2020 Nuclear Instruments and Methods in Physics Research Section A: Accelerators, Spectrometers, Detectors and Associated Equipment 954 161201\",\n",
      "        \"Zhao K, Feng C, Wang S, Shen Z, Zhang K and Liu S 2023 Journal of Instrumentation 18 P01021\",\n",
      "        \"Lee S et al. 2024 Nuclear Instruments and Methods in Physics Research Section A: Accelerators, Spectrometers, Detectors and Associated Equipment 1066 169638\",\n",
      "        \"Dutta S, Ghosh S, Bhattacharya S and Saha S 2023 Journal of Instrumentation 18 P03038\",\n",
      "        \"Jung K et al. 2023 Journal of Instrumentation 18 P03003\",\n",
      "        \"Griffiths J, Kleinegesse S, Saunders D, Taylor R and Vacheret A 2020 Machine Learning: Science and Technology 1 045022\",\n",
      "        \"Carlini A, Bobin C, Paindavoine M and Thevenin M 2024 Nuclear Instruments and Methods in Physics Research Section A: Accelerators, Spectrometers, Detectors and Associated Equipment 1064 169369\",\n",
      "        \"Kim J, Park K and Cho G 2019 Applied Radiation and Isotopes 147 83–90\",\n",
      "        \"Kim J, Jeon B, Hwang J, Song G, Moon M and Cho G 2023 Applied Radiation and Isotopes 199 110880\",\n",
      "        \"Jeon B, Lim S, Lee E, Hwang Y S, Chung K J and Moon M 2022 IEEE Transactions on Nuclear Science 69 1344–1351\",\n",
      "        \"Regad́ıo A, Esteban L and S´anchez-Prieto S 2021 Nuclear Instruments and Methods in Physics Research Section A: Accelerators, Spectrometers, Detectors and Associated Equipment 1005 165403\",\n",
      "        \"Berg E and Cherry S R 2018 Physics in Medicine & Biology 63 02LT01\",\n",
      "        \"Onishi Y, Hashimoto F, Ote K and Ota R 2022 Physics in Medicine & Biology 67 04NT01\",\n",
      "        \"Wu Q et al. 2023 IEEE Transactions on Nuclear Science 70 1178–1182\",\n",
      "        \"Ai P et al. 2023 Machine Learning: Science and Technology 4 045020\",\n",
      "        \"Heshmati K, Ghal-Eh N, Najafabadi R I and Vega-Carrillo H R 2022 Applied Radiation and Isotopes 186 110265\",\n",
      "        \"Tajik M 2024 Applied Radiation and Isotopes 210 111375\",\n",
      "        \"Ai P, Deng Z, Wang Y and Li L 2021 Journal of Instrumentation 16 P09019\",\n",
      "        \"Wu H, Hu T, Liu Y, Zhou H, Wang J and Long M 2023 TimesNet: Temporal 2D-Variation Modeling for General Time Series Analysis The Eleventh International Conference on Learning Representations, ICLR 2023, Kigali, Rwanda, May 1-5, 2023 arXiv:2210.02186\",\n",
      "        \"Chen X and He K 2021 Exploring Simple Siamese Representation Learning IEEE Conference on Computer Vision and Pattern Recognition, CVPR 2021, virtual, June 19-25, 2021 (Computer Vision Foundation / IEEE) pp 15750–15758\",\n",
      "        \"Akerib D et al. 2013 Nuclear Instruments and Methods in Physics Research Section A: Accelerators, Spectrometers, Detectors and Associated Equipment 704 111–126\",\n",
      "        \"Akerib D S et al. (LUX Collaboration) 2018 Phys. Rev. D 97(11) 112002\",\n",
      "        \"The MPD Collaboration MPD NICA technical design report of the electromagnetic calorimeter (ECal) URL http://mpd.jinr.ru/wp-content/uploads/2019/01/TDR_ECAL_v3\n",
      "An error occurred: 'NoneType' object has no attribute 'group'\n",
      "Issue response: \n",
      " ```json\n",
      "{\n",
      "    \"citations\": [\n",
      "        \"Fu C, Di Fulvio A, Clarke S, Wentzloff D, Pozzi S and Kim H 2018 Annals of Nuclear Energy 120 410–421\",\n",
      "        \"Ai P, Wang D, Huang G, Fang N, Xu D and Zhang F 2019 Journal of Instrumentation 14 P03002\",\n",
      "        \"Aarrestad T et al. 2021 Machine Learning: Science and Technology 2 045015\",\n",
      "        \"Khoda E E et al. 2023 Machine Learning: Science and Technology 4 025004\",\n",
      "        \"Ai P, Deng Z, Wang Y, Gong H, Ran X and Lang Z 2023 IEEE Transactions on Nuclear Science 70 971–978\",\n",
      "        \"Doucet E et al. 2020 Nuclear Instruments and Methods in Physics Research Section A: Accelerators, Spectrometers, Detectors and Associated Equipment 954 161201\",\n",
      "        \"Zhao K, Feng C, Wang S, Shen Z, Zhang K and Liu S 2023 Journal of Instrumentation 18 P01021\",\n",
      "        \"Lee S et al. 2024 Nuclear Instruments and Methods in Physics Research Section A: Accelerators, Spectrometers, Detectors and Associated Equipment 1066 169638\",\n",
      "        \"Dutta S, Ghosh S, Bhattacharya S and Saha S 2023 Journal of Instrumentation 18 P03038\",\n",
      "        \"Jung K et al. 2023 Journal of Instrumentation 18 P03003\",\n",
      "        \"Griffiths J, Kleinegesse S, Saunders D, Taylor R and Vacheret A 2020 Machine Learning: Science and Technology 1 045022\",\n",
      "        \"Carlini A, Bobin C, Paindavoine M and Thevenin M 2024 Nuclear Instruments and Methods in Physics Research Section A: Accelerators, Spectrometers, Detectors and Associated Equipment 1064 169369\",\n",
      "        \"Kim J, Park K and Cho G 2019 Applied Radiation and Isotopes 147 83–90\",\n",
      "        \"Kim J, Jeon B, Hwang J, Song G, Moon M and Cho G 2023 Applied Radiation and Isotopes 199 110880\",\n",
      "        \"Jeon B, Lim S, Lee E, Hwang Y S, Chung K J and Moon M 2022 IEEE Transactions on Nuclear Science 69 1344–1351\",\n",
      "        \"Regadío A, Esteban L and Sánchez-Prieto S 2021 Nuclear Instruments and Methods in Physics Research Section A: Accelerators, Spectrometers, Detectors and Associated Equipment 1005 165403\",\n",
      "        \"Berg E and Cherry S R 2018 Physics in Medicine & Biology 63 02LT01\",\n",
      "        \"Onishi Y, Hashimoto F, Ote K and Ota R 2022 Physics in Medicine & Biology 67 04NT01\",\n",
      "        \"Wu Q et al. 2023 IEEE Transactions on Nuclear Science 70 1178–1182\",\n",
      "        \"Ai P et al. 2023 Machine Learning: Science and Technology 4 045020\",\n",
      "        \"Heshmati K, Ghal-Eh N, Najafabadi R I and Vega-Carrillo H R 2022 Applied Radiation and Isotopes 186 110265\",\n",
      "        \"Tajik M 2024 Applied Radiation and Isotopes 210 111375\",\n",
      "        \"Ai P, Deng Z, Wang Y and Li L 2021 Journal of Instrumentation 16 P09019\",\n",
      "        \"Wu H, Hu T, Liu Y, Zhou H, Wang J and Long M 2023 TimesNet: Temporal 2D-Variation Modeling for General Time Series Analysis The Eleventh International Conference on Learning Representations, ICLR 2023, Kigali, Rwanda, May 1-5, 2023 arXiv:2210.02186\",\n",
      "        \"Chen X and He K 2021 Exploring Simple Siamese Representation Learning IEEE Conference on Computer Vision and Pattern Recognition, CVPR 2021, virtual, June 19-25, 2021 (Computer Vision Foundation / IEEE) pp 15750–15758\",\n",
      "        \"Akerib D et al. 2013 Nuclear Instruments and Methods in Physics Research Section A: Accelerators, Spectrometers, Detectors and Associated Equipment 704 111–126\",\n",
      "        \"Akerib D S et al. (LUX Collaboration) 2018 Phys. Rev. D 97(11) 112002\",\n",
      "        \"The MPD Collaboration MPD NICA technical design report of the electromagnetic calorimeter (ECal)\",\n",
      "        \"The MPD Collaboration The MultiPurpose Detector – MPD (Conceptual Design Report)\",\n",
      "        \"Ai P, Deng Z, Wang Y and Shen C 2022 Journal\n"
     ]
    },
    {
     "name": "stderr",
     "output_type": "stream",
     "text": [
      "Downloading Newest Arxiv Papers: 64it [17:06, 27.61s/it]"
     ]
    },
    {
     "name": "stdout",
     "output_type": "stream",
     "text": [
      "An error occurred: 'NoneType' object has no attribute 'group'\n",
      "Issue response: \n",
      " ```json\n",
      "{\n",
      "    \"citations\": [\n",
      "        \"Fu C, Di Fulvio A, Clarke S, Wentzloff D, Pozzi S and Kim H 2018 Annals of Nuclear Energy 120 410–421\",\n",
      "        \"Ai P, Wang D, Huang G, Fang N, Xu D and Zhang F 2019 Journal of Instrumentation 14 P03002\",\n",
      "        \"Aarrestad T et al. 2021 Machine Learning: Science and Technology 2 045015\",\n",
      "        \"Khoda E E et al. 2023 Machine Learning: Science and Technology 4 025004\",\n",
      "        \"Ai P, Deng Z, Wang Y, Gong H, Ran X and Lang Z 2023 IEEE Transactions on Nuclear Science 70 971–978\",\n",
      "        \"Doucet E et al. 2020 Nuclear Instruments and Methods in Physics Research Section A: Accelerators, Spectrometers, Detectors and Associated Equipment 954 161201\",\n",
      "        \"Zhao K, Feng C, Wang S, Shen Z, Zhang K and Liu S 2023 Journal of Instrumentation 18 P01021\",\n",
      "        \"Lee S et al. 2024 Nuclear Instruments and Methods in Physics Research Section A: Accelerators, Spectrometers, Detectors and Associated Equipment 1066 169638\",\n",
      "        \"Dutta S, Ghosh S, Bhattacharya S and Saha S 2023 Journal of Instrumentation 18 P03038\",\n",
      "        \"Jung K et al. 2023 Journal of Instrumentation 18 P03003\",\n",
      "        \"Griffiths J, Kleinegesse S, Saunders D, Taylor R and Vacheret A 2020 Machine Learning: Science and Technology 1 045022\",\n",
      "        \"Carlini A, Bobin C, Paindavoine M and Thevenin M 2024 Nuclear Instruments and Methods in Physics Research Section A: Accelerators, Spectrometers, Detectors and Associated Equipment 1064 169369\",\n",
      "        \"Kim J, Park K and Cho G 2019 Applied Radiation and Isotopes 147 83–90\",\n",
      "        \"Kim J, Jeon B, Hwang J, Song G, Moon M and Cho G 2023 Applied Radiation and Isotopes 199 110880\",\n",
      "        \"Jeon B, Lim S, Lee E, Hwang Y S, Chung K J and Moon M 2022 IEEE Transactions on Nuclear Science 69 1344–1351\",\n",
      "        \"Regadío A, Esteban L and Sánchez-Prieto S 2021 Nuclear Instruments and Methods in Physics Research Section A: Accelerators, Spectrometers, Detectors and Associated Equipment 1005 165403\",\n",
      "        \"Berg E and Cherry S R 2018 Physics in Medicine & Biology 63 02LT01\",\n",
      "        \"Onishi Y, Hashimoto F, Ote K and Ota R 2022 Physics in Medicine & Biology 67 04NT01\",\n",
      "        \"Wu Q et al. 2023 IEEE Transactions on Nuclear Science 70 1178–1182\",\n",
      "        \"Ai P et al. 2023 Machine Learning: Science and Technology 4 045020\",\n",
      "        \"Heshmati K, Ghal-Eh N, Najafabadi R I and Vega-Carrillo H R 2022 Applied Radiation and Isotopes 186 110265\",\n",
      "        \"Tajik M 2024 Applied Radiation and Isotopes 210 111375\",\n",
      "        \"Ai P, Deng Z, Wang Y and Li L 2021 Journal of Instrumentation 16 P09019\",\n",
      "        \"Wu H, Hu T, Liu Y, Zhou H, Wang J and Long M 2023 TimesNet: Temporal 2D-Variation Modeling for General Time Series Analysis The Eleventh International Conference on Learning Representations, ICLR 2023, Kigali, Rwanda, May 1-5, 2023\",\n",
      "        \"Chen X and He K 2021 Exploring Simple Siamese Representation Learning IEEE Conference on Computer Vision and Pattern Recognition, CVPR 2021, virtual, June 19-25, 2021 (Computer Vision Foundation / IEEE) pp 15750–15758\",\n",
      "        \"Akerib D et al. 2013 Nuclear Instruments and Methods in Physics Research Section A: Accelerators, Spectrometers, Detectors and Associated Equipment 704 111–126\",\n",
      "        \"Akerib D S et al. (LUX Collaboration) 2018 Phys. Rev. D 97(11) 112002\",\n",
      "        \"The MPD Collaboration MPD NICA technical design report of the electromagnetic calorimeter (ECal)\",\n",
      "        \"The MPD Collaboration The MultiPurpose Detector – MPD (Conceptual Design Report)\",\n",
      "        \"Ai P, Deng Z, Wang Y and Shen C 2022 Journal of Instrumentation 17 P02032\",\n",
      "\n"
     ]
    },
    {
     "name": "stderr",
     "output_type": "stream",
     "text": [
      "Downloading Newest Arxiv Papers: 65it [17:14, 21.64s/it]"
     ]
    },
    {
     "name": "stdout",
     "output_type": "stream",
     "text": [
      "Extracted 20 citations and 11 tags.\n"
     ]
    },
    {
     "name": "stderr",
     "output_type": "stream",
     "text": [
      "Downloading Newest Arxiv Papers: 66it [17:20, 17.00s/it]"
     ]
    },
    {
     "name": "stdout",
     "output_type": "stream",
     "text": [
      "Extracted 20 citations and 14 tags.\n"
     ]
    },
    {
     "name": "stderr",
     "output_type": "stream",
     "text": [
      "Downloading Newest Arxiv Papers: 67it [17:31, 15.29s/it]"
     ]
    },
    {
     "name": "stdout",
     "output_type": "stream",
     "text": [
      "Extracted 18 citations and 15 tags.\n"
     ]
    },
    {
     "name": "stderr",
     "output_type": "stream",
     "text": [
      "Downloading Newest Arxiv Papers: 68it [17:40, 13.31s/it]"
     ]
    },
    {
     "name": "stdout",
     "output_type": "stream",
     "text": [
      "Extracted 39 citations and 12 tags.\n"
     ]
    },
    {
     "name": "stderr",
     "output_type": "stream",
     "text": [
      "Downloading Newest Arxiv Papers: 69it [17:50, 12.43s/it]"
     ]
    },
    {
     "name": "stdout",
     "output_type": "stream",
     "text": [
      "Extracted 20 citations and 12 tags.\n"
     ]
    },
    {
     "name": "stderr",
     "output_type": "stream",
     "text": [
      "Downloading Newest Arxiv Papers: 70it [18:00, 11.64s/it]"
     ]
    },
    {
     "name": "stdout",
     "output_type": "stream",
     "text": [
      "Extracted 38 citations and 9 tags.\n"
     ]
    },
    {
     "name": "stderr",
     "output_type": "stream",
     "text": [
      "Downloading Newest Arxiv Papers: 71it [18:11, 11.54s/it]"
     ]
    },
    {
     "name": "stdout",
     "output_type": "stream",
     "text": [
      "Extracted 29 citations and 13 tags.\n"
     ]
    },
    {
     "name": "stderr",
     "output_type": "stream",
     "text": [
      "Downloading Newest Arxiv Papers: 72it [18:32, 14.21s/it]"
     ]
    },
    {
     "name": "stdout",
     "output_type": "stream",
     "text": [
      "Extracted 47 citations and 17 tags.\n",
      "An error occurred: 'NoneType' object has no attribute 'group'\n",
      "Issue response: \n",
      " {\n",
      "    \"citations\": [\n",
      "        \"Improving language understanding by generative pre-training\",\n",
      "        \"Llama: Open and efficient foundation language models\",\n",
      "        \"Gemini: a family of highly capable multimodal models\",\n",
      "        \"Language models are few-shot learners\",\n",
      "        \"GPT-4 technical report\",\n",
      "        \"Zero: memory optimizations toward training trillion parameter models\",\n",
      "        \"Attention is all you need\",\n",
      "        \"Language models are unsupervised multitask learners\",\n",
      "        \"Layer normalization\",\n",
      "        \"Harnessing the power of llms in practice: A survey on chatgpt and beyond\",\n",
      "        \"Bert: Pre-training of deep bidirectional transformers for language understanding\",\n",
      "        \"A survey of large language models\",\n",
      "        \"Scaling laws for neural language models\",\n",
      "        \"Gshard: Scaling giant models with conditional computation and automatic sharding\",\n",
      "        \"Pytorch distributed: Experiences on accelerating data parallel training\",\n",
      "        \"Megatron-lm: Training multi-billion parameter language models using model parallelism\",\n",
      "        \"An efficient 2d method for training super-large deep learning models\",\n",
      "        \"Pipedream: Fast and efficient pipeline parallel dnn training\",\n",
      "        \"Gpipe: Efficient training of giant neural networks using pipeline parallelism\",\n",
      "        \"The memory fragmentation problem: Solved?\",\n",
      "        \"Zero-offload: Democratizing billion-scale model training\",\n",
      "        \"Zero-infinity: breaking the GPU memory wall for extreme scale deep learning\",\n",
      "        \"Zero++: Extremely efficient collective communication for giant model training\",\n",
      "        \"Training deep nets with sublinear memory cost\",\n",
      "        \"Register allocation via coloring\",\n",
      "        \"Optimal checkpointing for heterogeneous chains: how to train deep neural networks with limited memory\",\n",
      "        \"GMLake: Efficient and transparent GPU memory defragmentation for large-scale DNN training with virtual memory stitching\",\n",
      "        \"{TensorFlow}: a system for {Large-Scale} machine learning\",\n",
      "        \"Deepspeed-inference: enabling efficient inference of transformer models at unprecedented scale\",\n",
      "        \"Huggingface's transformers: State-of-the-art natural language processing\",\n",
      "        \"Low-rank adaptation of large language models\",\n",
      "        \"Structured pruning adapters\",\n",
      "        \"Loraprune: Pruning meets low-rank parameter-efficient fine-tuning\",\n",
      "        \"QLoRA: Efficient finetuning of quantized LLMs\",\n",
      "        \"LQ-LoRA: Low-rank plus quantized matrix decomposition for efficient language model finetuning\",\n",
      "        \"QA-LoRA: Quantization-aware low-rank adaptation of large language models\",\n",
      "        \"Exploiting cloze questions for few shot text classification and natural language inference\",\n",
      "        \"Making pre-trained language models better few-shot learners\",\n",
      "        \"Paradigm shift in natural language processing\",\n",
      "        \"Prefix-tuning: Optimizing continuous prompts for generation\",\n",
      "        \"Warp: Word-level adversarial reprogramming\",\n",
      "        \"Learning how to ask: Querying lms with mixtures of soft prompts\",\n",
      "        \"Gpt understands, too\",\n",
      "        \"Factual probing is [mask]: Learning vs. learning to recall\",\n",
      "        \"Prompt tuning can be comparable to fine-tuning universally across scales and tasks\",\n",
      "        \"The power of scale for parameter-efficient prompt tuning\",\n",
      "        \"Efficient and robust approximate nearest neighbor search using hierarchical navigable small world graphs\",\n",
      "        \"Fast accurate billion-point nearest neighbor search on a single node\",\n",
      "        \"Faiss\",\n",
      "        \"Parameter-efficient transfer learning with diff pruning\",\n",
      "        \"Parameter-efficient fine-tuning without introducing new latency\",\n",
      "        \"Training neural networks with fixed sparse masks\",\n",
      "        \"NVIDIA A100 tensor core GPU architecture\",\n",
      "        \"NVIDIA H100 tensor core GPU architecture\",\n",
      "        \"Mixed precision training\",\n",
      "        \"Why systolic architectures?\",\n",
      "        \"Smart-infinity: Fast large language model training using near-storage processing on a real system\",\n",
      "        \"Sigma: A sparse and irregular gemm accelerator with flexible interconnects for dnn training\",\n",
      "        \"Tensordash: Exploiting sparsity to accelerate deep neural network training\",\n",
      "        \"Fast: DNN training under variable precision block floating point with stochastic rounding\",\n",
      "        \"Cambricon-q: A hybrid architecture for efficient training\",\n",
      "        \"Google’s neural machine translation system: Bridging the gap between human and machine translation\",\n",
      "        \"A survey on efficient inference for large language models\",\n",
      "        \"Flashattention: Fast and memory-efficient exact attention with io-awareness\",\n",
      "        \"Flashattention-2: Faster attention with better parallelism and work partitioning\",\n",
      "        \"Flash-decoding for long-context inference\",\n",
      "        \"Flashdecoding++: Faster large language model inference on gpus\",\n",
      "        \"Optimizing inference on large language models with NVIDIA TensorRT-LLM, now publicly available\",\n",
      "        \"Bytetransformer: A high-performance transformer boosted for variable-length inputs\",\n",
      "        \"xformers: A modular and hackable transformer modelling library\",\n",
      "        \"Efficient memory management for large language model serving with pagedattention\",\n",
      "        \"High-throughput generative inference of large language models with a single gpu\",\n",
      "        \"Fairness in serving\n"
     ]
    },
    {
     "name": "stderr",
     "output_type": "stream",
     "text": [
      "Downloading Newest Arxiv Papers: 73it [19:05, 19.79s/it]"
     ]
    },
    {
     "name": "stdout",
     "output_type": "stream",
     "text": [
      "Extracted 29 citations and 19 tags.\n"
     ]
    },
    {
     "name": "stderr",
     "output_type": "stream",
     "text": [
      "Downloading Newest Arxiv Papers: 74it [19:11, 15.85s/it]"
     ]
    },
    {
     "name": "stdout",
     "output_type": "stream",
     "text": [
      "Extracted 12 citations and 13 tags.\n"
     ]
    },
    {
     "name": "stderr",
     "output_type": "stream",
     "text": [
      "Downloading Newest Arxiv Papers: 75it [19:38, 19.08s/it]"
     ]
    },
    {
     "name": "stdout",
     "output_type": "stream",
     "text": [
      "Extracted 38 citations and 10 tags.\n",
      "An error occurred: 'NoneType' object has no attribute 'group'\n",
      "Issue response: \n",
      " {\n",
      "    \"citations\": [\n",
      "        \"Explaining individual predictions when features are dependent: More accurate approximations to shapley values\",\n",
      "        \"A convergence theory for deep learning via over-parameterization\",\n",
      "        \"On the convergence rate of training recurrent neural networks\",\n",
      "        \"Efficiently learning fourier sparse set functions\",\n",
      "        \"Towards better understanding of gradient-based attribution methods for deep neural networks\",\n",
      "        \"The tractability of shap-score-based explanations for classification over deterministic and decomposable boolean circuits\",\n",
      "        \"A Closer Look at Memorization in Deep Networks\",\n",
      "        \"Frequency bias in neural networks for input of non-uniform density\",\n",
      "        \"Linear tree shap\",\n",
      "        \"True to the model or true to the data?\",\n",
      "        \"Xgboost: A scalable tree boosting system\",\n",
      "        \"Nearly optimal deterministic algorithm for sparse walsh-hadamard transform\",\n",
      "        \"On lazy training in differentiable programming\",\n",
      "        \"Kernel methods for deep learning\",\n",
      "        \"Improving kernelshap: Practical shapley value estimation via linear regression\",\n",
      "        \"Sgd learns the conjugate kernel class of the network\",\n",
      "        \"Towards deeper understanding of neural networks: The power of initialization and a dual view on expressivity\",\n",
      "        \"Algorithmic transparency via quantitative input influence\",\n",
      "        \"Catboost: gradient boosting with categorical features support\",\n",
      "        \"Gradient descent provably optimizes over-parameterized neural networks\",\n",
      "        \"Exploring Generalization in Deep Learning\",\n",
      "        \"Gaussian processes in machine learning\",\n",
      "        \"The convergence rate of neural networks for learned functions of different frequencies\",\n",
      "        \"Spectra of the conjugate kernel and neural tangent kernel for linear-width neural networks\",\n",
      "        \"A scalable walsh-hadamard regularizer to overcome the low-degree spectral bias of neural networks\",\n",
      "        \"Estimators of relative importance in linear regression based on variance decomposition\",\n",
      "        \"Sobol indices and shapley value\",\n",
      "        \"Causality\",\n",
      "        \"Computing with infinite networks\",\n",
      "        \"Adaptation in protein fitness landscapes is facilitated by indirect paths\",\n",
      "        \"Local fitness landscape of the green fluorescent protein\"\n",
      "    ],\n",
      "    \"tags\": [\n",
      "        \"SHAP values\",\n",
      "        \"Fourier transform\",\n",
      "        \"machine learning\",\n",
      "        \"explainable AI\",\n",
      "        \"neural networks\",\n",
      "        \"decision trees\",\n",
      "        \"computational efficiency\",\n",
      "        \"feature attribution\",\n",
      "        \"spectral bias\",\n",
      "        \"model interpretability\",\n",
      "        \"algorithmic fairness\",\n",
      "        \"high-stakes applications\",\n",
      "        \"KERNELSHAP\",\n",
      "        \"DeepLift\",\n",
      "        \"ensemble models\",\n",
      "        \"massively parallel computation\"\n",
      "    ]\n",
      "}\n"
     ]
    },
    {
     "name": "stderr",
     "output_type": "stream",
     "text": [
      "Downloading Newest Arxiv Papers: 76it [19:56, 18.81s/it]"
     ]
    },
    {
     "name": "stdout",
     "output_type": "stream",
     "text": [
      "Extracted 26 citations and 15 tags.\n"
     ]
    },
    {
     "name": "stderr",
     "output_type": "stream",
     "text": [
      "Downloading Newest Arxiv Papers: 77it [20:04, 15.65s/it]"
     ]
    },
    {
     "name": "stdout",
     "output_type": "stream",
     "text": [
      "Extracted 44 citations and 10 tags.\n",
      "An error occurred: 'NoneType' object has no attribute 'group'\n",
      "Issue response: \n",
      " ```json\n",
      "{\n",
      "    \"citations\": [\n",
      "        \"Regulatory roles of long noncoding rnas implicated in cancer hallmarks\",\n",
      "        \"Cancer modeling: From mechanistic to data-driven approaches, and from fundamental insights to clinical applications\",\n",
      "        \"Machine learning methods for cancer classification using gene expression data: A review\",\n",
      "        \"Advances of mrna vaccine in tumor: a maze of opportunities and challenges\",\n",
      "        \"Machine learning applications in cancer prognosis and prediction\",\n",
      "        \"Evaluation of machine learning algorithm utilization for lung cancer classification based on gene expression levels\",\n",
      "        \"Knn model-based approach in classification\",\n",
      "        \"Support vector machines : theory and applications\",\n",
      "        \"Using auc and accuracy in evaluating learning algorithms\",\n",
      "        \"Deep learning based tumor type classification using gene expression data\",\n",
      "        \"Predicting cancer types from mirna stem-loops using deep learning\",\n",
      "        \"Artificial neural networks: A tutorial\",\n",
      "        \"Cancer type prediction and classification based on rna-sequencing data\",\n",
      "        \"Decision tree classifier for network intrusion detection with ga-based feature selection\",\n",
      "        \"Variance threshold as early screening to boruta feature selection for intrusion detection system\",\n",
      "        \"Feature ranking using linear svm\",\n",
      "        \"Understanding of a convolutional neural network\",\n",
      "        \"Convolutional neural network models for cancer type prediction based on gene expression\",\n",
      "        \"Improving pan cancer classification of single cell rna-seq gene expression data using machine learning\",\n",
      "        \"Random forests\",\n",
      "        \"A short introduction to boosting\",\n",
      "        \"Visual explanations from deep networks via gradient-based localization\",\n",
      "        \"Deepgx: deep learning using gene expression for cancer classification\",\n",
      "        \"Automatic discovery of 100-mirna signature for cancer classification using ensemble feature selection\",\n",
      "        \"Feature selection and cancer classification via sparse logistic regression with the hybrid l1/2+ 2 regularization\",\n",
      "        \"Explainable ai: A review of machine learning interpretability methods\",\n",
      "        \"Explaining prediction models and individual predictions with feature contributions\",\n",
      "        \"On pixel-wise explanations for non-linear classifier decisions by layer-wise relevance propagation\",\n",
      "        \"Why should i trust you?”: Explaining the predictions of any classifier\",\n",
      "        \"Anchors: High-precision model-agnostic explanations\",\n",
      "        \"Learning important features through propagating activation differences\",\n",
      "        \"Discovering biomarkers of hepatocellular carcinoma from single-cell rna sequencing data by cooperative games on gene regulatory network\",\n",
      "        \"A unified approach to interpreting model predictions\",\n",
      "        \"Differentially expressed genes reflect disease-induced rather than disease-causing changes in the transcriptome\",\n",
      "        \"Tcgar network, ea collisson et al., 'the cancer genome atlas pan-cancer analysis project'\",\n",
      "        \"Comparative study of quantification measures for the analysis of rna-seq data from the nci patient-derived models repository\",\n",
      "        \"Accurate transcript quantification from rna-seq data with or without a reference genome\",\n",
      "        \"Optimal ratio for data splitting\",\n",
      "        \"Comparison of min-max normalization and z-score normalization in the k-nearest neighbor (knn) algorithm to test the accuracy of types of breast cancer\",\n",
      "        \"Investigating the impact of data normalization on classification performance\",\n",
      "        \"Data normalization methods to improve the quality of classification in the breast cancer diagnostic system\",\n",
      "        \"Impact of data normalization on classification model accuracy\",\n",
      "        \"Performance assessment of machine learning classifiers using selective feature approaches for cervical cancer detection\",\n",
      "        \"Machine learning analysis of tcga cancer data\",\n",
      "        \"Deep learning in cancer diagnosis and prognosis prediction: a minireview on challenges, recent trends, and future directions\",\n",
      "        \"Liver cancer classification using random forest and extreme gradient boosting (xgboost) with genetic algorithm as feature selection\",\n",
      "        \"Pan-cancer prognosis prediction using multi-modal deep learning\",\n",
      "        \"Xgboost: A scalable tree boosting system\",\n",
      "        \"Introduction to multi-layer feedforward neural networks\",\n",
      "        \"Understanding 1d convolutional neural networks using multiclass time-varying signals\",\n",
      "        \"Tabnet: Attentive interpretable tabular learning\",\n",
      "        \"Ridge regularization: An essential concept in data science\",\n",
      "        \"Model consistent lasso estimation through the bootstrap\",\n",
      "        \"Gene selection for cancer classification using support vector machines\",\n",
      "        \"Gene selection in cancer classification using pso/svm and ga/svm hybrid algorithms\",\n",
      "        \"An overview of ensemble methods for binary classifiers in multi-class problems: Experimental study on one-vs-one and one-vs-all schemes\",\n",
      "        \"Stochastic gradient boosting\",\n",
      "        \"A feedforward architecture accounts for rapid categorization\",\n",
      "        \"Cancer classification based on microarray gene expression data using deep learning\",\n",
      "        \"Deepcc: a novel deep learning-based framework for cancer molecular subtype classification\",\n",
      "        \"Empirical evaluation of rectified activations in convolutional network\",\n",
      "        \"A method for stochastic optimization\",\n",
      "        \"Detection of lung adenocarcinoma cancer based on rna-seq gene expression data using limma and tabnet\",\n",
      "        \"Fast, accurate, and racially unbiased pan-cancer tumor-only variant calling with tabular machine learning\",\n",
      "        \"A deep tabular data learning\n"
     ]
    },
    {
     "name": "stderr",
     "output_type": "stream",
     "text": [
      "Downloading Newest Arxiv Papers: 78it [20:29, 18.47s/it]"
     ]
    },
    {
     "name": "stdout",
     "output_type": "stream",
     "text": [
      "Extracted 38 citations and 10 tags.\n"
     ]
    },
    {
     "name": "stderr",
     "output_type": "stream",
     "text": [
      "Downloading Newest Arxiv Papers: 79it [20:37, 15.29s/it]"
     ]
    },
    {
     "name": "stdout",
     "output_type": "stream",
     "text": [
      "Extracted 22 citations and 12 tags.\n"
     ]
    },
    {
     "name": "stderr",
     "output_type": "stream",
     "text": [
      "Downloading Newest Arxiv Papers: 79it [20:40, 15.70s/it]"
     ]
    },
    {
     "name": "stdout",
     "output_type": "stream",
     "text": [
      "An error occurred: Error code: 400 - {'error': {'message': \"This model's maximum context length is 128000 tokens. However, your messages resulted in 190759 tokens. Please reduce the length of the messages.\", 'type': 'invalid_request_error', 'param': 'messages', 'code': 'context_length_exceeded'}}\n"
     ]
    },
    {
     "name": "stderr",
     "output_type": "stream",
     "text": [
      "\n"
     ]
    },
    {
     "ename": "UnboundLocalError",
     "evalue": "cannot access local variable 'response' where it is not associated with a value",
     "output_type": "error",
     "traceback": [
      "\u001b[0;31m---------------------------------------------------------------------------\u001b[0m",
      "\u001b[0;31mBadRequestError\u001b[0m                           Traceback (most recent call last)",
      "File \u001b[0;32m~/Project/thought-compiler/src/paper.py:92\u001b[0m, in \u001b[0;36mextract_citations_and_tags\u001b[0;34m(paper_path)\u001b[0m\n\u001b[1;32m     91\u001b[0m \u001b[38;5;28;01mtry\u001b[39;00m:\n\u001b[0;32m---> 92\u001b[0m     response \u001b[38;5;241m=\u001b[39m \u001b[43mget_openai_response\u001b[49m\u001b[43m(\u001b[49m\u001b[43mEXTRACT_CITATIONS_AND_TAGS_PROMPT\u001b[49m\u001b[43m \u001b[49m\u001b[38;5;241;43m+\u001b[39;49m\u001b[43m \u001b[49m\u001b[43mfull_text\u001b[49m\u001b[43m,\u001b[49m\u001b[43m \u001b[49m\u001b[43msystem_prompt\u001b[49m\u001b[38;5;241;43m=\u001b[39;49m\u001b[38;5;124;43m\"\u001b[39;49m\u001b[38;5;124;43mYou are an AI assistant specialized in analyzing academic papers. Provide output in JSON format only.\u001b[39;49m\u001b[38;5;124;43m\"\u001b[39;49m\u001b[43m)\u001b[49m\n\u001b[1;32m     93\u001b[0m     citations, tags \u001b[38;5;241m=\u001b[39m parse_citation_and_tags(response)\n",
      "File \u001b[0;32m~/Project/thought-compiler/src/llm.py:66\u001b[0m, in \u001b[0;36mget_openai_response\u001b[0;34m(query, img, img_type, system_prompt)\u001b[0m\n\u001b[1;32m     64\u001b[0m messages\u001b[38;5;241m.\u001b[39mappend({\u001b[38;5;124m\"\u001b[39m\u001b[38;5;124mrole\u001b[39m\u001b[38;5;124m\"\u001b[39m: \u001b[38;5;124m\"\u001b[39m\u001b[38;5;124muser\u001b[39m\u001b[38;5;124m\"\u001b[39m, \u001b[38;5;124m\"\u001b[39m\u001b[38;5;124mcontent\u001b[39m\u001b[38;5;124m\"\u001b[39m: content})\n\u001b[0;32m---> 66\u001b[0m response \u001b[38;5;241m=\u001b[39m \u001b[43mopenai_client\u001b[49m\u001b[38;5;241;43m.\u001b[39;49m\u001b[43mchat\u001b[49m\u001b[38;5;241;43m.\u001b[39;49m\u001b[43mcompletions\u001b[49m\u001b[38;5;241;43m.\u001b[39;49m\u001b[43mcreate\u001b[49m\u001b[43m(\u001b[49m\n\u001b[1;32m     67\u001b[0m \u001b[43m    \u001b[49m\u001b[43mmodel\u001b[49m\u001b[38;5;241;43m=\u001b[39;49m\u001b[38;5;124;43m\"\u001b[39;49m\u001b[38;5;124;43mgpt-4o-mini\u001b[39;49m\u001b[38;5;124;43m\"\u001b[39;49m\u001b[43m,\u001b[49m\n\u001b[1;32m     68\u001b[0m \u001b[43m    \u001b[49m\u001b[43mmessages\u001b[49m\u001b[38;5;241;43m=\u001b[39;49m\u001b[43mmessages\u001b[49m\u001b[43m,\u001b[49m\n\u001b[1;32m     69\u001b[0m \u001b[43m    \u001b[49m\u001b[43mmax_tokens\u001b[49m\u001b[38;5;241;43m=\u001b[39;49m\u001b[38;5;241;43m1024\u001b[39;49m\n\u001b[1;32m     70\u001b[0m \u001b[43m\u001b[49m\u001b[43m)\u001b[49m\n\u001b[1;32m     71\u001b[0m \u001b[38;5;28;01mreturn\u001b[39;00m response\u001b[38;5;241m.\u001b[39mchoices[\u001b[38;5;241m0\u001b[39m]\u001b[38;5;241m.\u001b[39mmessage\u001b[38;5;241m.\u001b[39mcontent\n",
      "File \u001b[0;32m/opt/homebrew/anaconda3/lib/python3.11/site-packages/openai/_utils/_utils.py:277\u001b[0m, in \u001b[0;36mrequired_args.<locals>.inner.<locals>.wrapper\u001b[0;34m(*args, **kwargs)\u001b[0m\n\u001b[1;32m    276\u001b[0m     \u001b[38;5;28;01mraise\u001b[39;00m \u001b[38;5;167;01mTypeError\u001b[39;00m(msg)\n\u001b[0;32m--> 277\u001b[0m \u001b[38;5;28;01mreturn\u001b[39;00m \u001b[43mfunc\u001b[49m\u001b[43m(\u001b[49m\u001b[38;5;241;43m*\u001b[39;49m\u001b[43margs\u001b[49m\u001b[43m,\u001b[49m\u001b[43m \u001b[49m\u001b[38;5;241;43m*\u001b[39;49m\u001b[38;5;241;43m*\u001b[39;49m\u001b[43mkwargs\u001b[49m\u001b[43m)\u001b[49m\n",
      "File \u001b[0;32m/opt/homebrew/anaconda3/lib/python3.11/site-packages/openai/resources/chat/completions.py:646\u001b[0m, in \u001b[0;36mCompletions.create\u001b[0;34m(self, messages, model, frequency_penalty, function_call, functions, logit_bias, logprobs, max_tokens, n, parallel_tool_calls, presence_penalty, response_format, seed, service_tier, stop, stream, stream_options, temperature, tool_choice, tools, top_logprobs, top_p, user, extra_headers, extra_query, extra_body, timeout)\u001b[0m\n\u001b[1;32m    612\u001b[0m \u001b[38;5;129m@required_args\u001b[39m([\u001b[38;5;124m\"\u001b[39m\u001b[38;5;124mmessages\u001b[39m\u001b[38;5;124m\"\u001b[39m, \u001b[38;5;124m\"\u001b[39m\u001b[38;5;124mmodel\u001b[39m\u001b[38;5;124m\"\u001b[39m], [\u001b[38;5;124m\"\u001b[39m\u001b[38;5;124mmessages\u001b[39m\u001b[38;5;124m\"\u001b[39m, \u001b[38;5;124m\"\u001b[39m\u001b[38;5;124mmodel\u001b[39m\u001b[38;5;124m\"\u001b[39m, \u001b[38;5;124m\"\u001b[39m\u001b[38;5;124mstream\u001b[39m\u001b[38;5;124m\"\u001b[39m])\n\u001b[1;32m    613\u001b[0m \u001b[38;5;28;01mdef\u001b[39;00m \u001b[38;5;21mcreate\u001b[39m(\n\u001b[1;32m    614\u001b[0m     \u001b[38;5;28mself\u001b[39m,\n\u001b[0;32m   (...)\u001b[0m\n\u001b[1;32m    644\u001b[0m     timeout: \u001b[38;5;28mfloat\u001b[39m \u001b[38;5;241m|\u001b[39m httpx\u001b[38;5;241m.\u001b[39mTimeout \u001b[38;5;241m|\u001b[39m \u001b[38;5;28;01mNone\u001b[39;00m \u001b[38;5;241m|\u001b[39m NotGiven \u001b[38;5;241m=\u001b[39m NOT_GIVEN,\n\u001b[1;32m    645\u001b[0m ) \u001b[38;5;241m-\u001b[39m\u001b[38;5;241m>\u001b[39m ChatCompletion \u001b[38;5;241m|\u001b[39m Stream[ChatCompletionChunk]:\n\u001b[0;32m--> 646\u001b[0m     \u001b[38;5;28;01mreturn\u001b[39;00m \u001b[38;5;28;43mself\u001b[39;49m\u001b[38;5;241;43m.\u001b[39;49m\u001b[43m_post\u001b[49m\u001b[43m(\u001b[49m\n\u001b[1;32m    647\u001b[0m \u001b[43m        \u001b[49m\u001b[38;5;124;43m\"\u001b[39;49m\u001b[38;5;124;43m/chat/completions\u001b[39;49m\u001b[38;5;124;43m\"\u001b[39;49m\u001b[43m,\u001b[49m\n\u001b[1;32m    648\u001b[0m \u001b[43m        \u001b[49m\u001b[43mbody\u001b[49m\u001b[38;5;241;43m=\u001b[39;49m\u001b[43mmaybe_transform\u001b[49m\u001b[43m(\u001b[49m\n\u001b[1;32m    649\u001b[0m \u001b[43m            \u001b[49m\u001b[43m{\u001b[49m\n\u001b[1;32m    650\u001b[0m \u001b[43m                \u001b[49m\u001b[38;5;124;43m\"\u001b[39;49m\u001b[38;5;124;43mmessages\u001b[39;49m\u001b[38;5;124;43m\"\u001b[39;49m\u001b[43m:\u001b[49m\u001b[43m \u001b[49m\u001b[43mmessages\u001b[49m\u001b[43m,\u001b[49m\n\u001b[1;32m    651\u001b[0m \u001b[43m                \u001b[49m\u001b[38;5;124;43m\"\u001b[39;49m\u001b[38;5;124;43mmodel\u001b[39;49m\u001b[38;5;124;43m\"\u001b[39;49m\u001b[43m:\u001b[49m\u001b[43m \u001b[49m\u001b[43mmodel\u001b[49m\u001b[43m,\u001b[49m\n\u001b[1;32m    652\u001b[0m \u001b[43m                \u001b[49m\u001b[38;5;124;43m\"\u001b[39;49m\u001b[38;5;124;43mfrequency_penalty\u001b[39;49m\u001b[38;5;124;43m\"\u001b[39;49m\u001b[43m:\u001b[49m\u001b[43m \u001b[49m\u001b[43mfrequency_penalty\u001b[49m\u001b[43m,\u001b[49m\n\u001b[1;32m    653\u001b[0m \u001b[43m                \u001b[49m\u001b[38;5;124;43m\"\u001b[39;49m\u001b[38;5;124;43mfunction_call\u001b[39;49m\u001b[38;5;124;43m\"\u001b[39;49m\u001b[43m:\u001b[49m\u001b[43m \u001b[49m\u001b[43mfunction_call\u001b[49m\u001b[43m,\u001b[49m\n\u001b[1;32m    654\u001b[0m \u001b[43m                \u001b[49m\u001b[38;5;124;43m\"\u001b[39;49m\u001b[38;5;124;43mfunctions\u001b[39;49m\u001b[38;5;124;43m\"\u001b[39;49m\u001b[43m:\u001b[49m\u001b[43m \u001b[49m\u001b[43mfunctions\u001b[49m\u001b[43m,\u001b[49m\n\u001b[1;32m    655\u001b[0m \u001b[43m                \u001b[49m\u001b[38;5;124;43m\"\u001b[39;49m\u001b[38;5;124;43mlogit_bias\u001b[39;49m\u001b[38;5;124;43m\"\u001b[39;49m\u001b[43m:\u001b[49m\u001b[43m \u001b[49m\u001b[43mlogit_bias\u001b[49m\u001b[43m,\u001b[49m\n\u001b[1;32m    656\u001b[0m \u001b[43m                \u001b[49m\u001b[38;5;124;43m\"\u001b[39;49m\u001b[38;5;124;43mlogprobs\u001b[39;49m\u001b[38;5;124;43m\"\u001b[39;49m\u001b[43m:\u001b[49m\u001b[43m \u001b[49m\u001b[43mlogprobs\u001b[49m\u001b[43m,\u001b[49m\n\u001b[1;32m    657\u001b[0m \u001b[43m                \u001b[49m\u001b[38;5;124;43m\"\u001b[39;49m\u001b[38;5;124;43mmax_tokens\u001b[39;49m\u001b[38;5;124;43m\"\u001b[39;49m\u001b[43m:\u001b[49m\u001b[43m \u001b[49m\u001b[43mmax_tokens\u001b[49m\u001b[43m,\u001b[49m\n\u001b[1;32m    658\u001b[0m \u001b[43m                \u001b[49m\u001b[38;5;124;43m\"\u001b[39;49m\u001b[38;5;124;43mn\u001b[39;49m\u001b[38;5;124;43m\"\u001b[39;49m\u001b[43m:\u001b[49m\u001b[43m \u001b[49m\u001b[43mn\u001b[49m\u001b[43m,\u001b[49m\n\u001b[1;32m    659\u001b[0m \u001b[43m                \u001b[49m\u001b[38;5;124;43m\"\u001b[39;49m\u001b[38;5;124;43mparallel_tool_calls\u001b[39;49m\u001b[38;5;124;43m\"\u001b[39;49m\u001b[43m:\u001b[49m\u001b[43m \u001b[49m\u001b[43mparallel_tool_calls\u001b[49m\u001b[43m,\u001b[49m\n\u001b[1;32m    660\u001b[0m \u001b[43m                \u001b[49m\u001b[38;5;124;43m\"\u001b[39;49m\u001b[38;5;124;43mpresence_penalty\u001b[39;49m\u001b[38;5;124;43m\"\u001b[39;49m\u001b[43m:\u001b[49m\u001b[43m \u001b[49m\u001b[43mpresence_penalty\u001b[49m\u001b[43m,\u001b[49m\n\u001b[1;32m    661\u001b[0m \u001b[43m                \u001b[49m\u001b[38;5;124;43m\"\u001b[39;49m\u001b[38;5;124;43mresponse_format\u001b[39;49m\u001b[38;5;124;43m\"\u001b[39;49m\u001b[43m:\u001b[49m\u001b[43m \u001b[49m\u001b[43mresponse_format\u001b[49m\u001b[43m,\u001b[49m\n\u001b[1;32m    662\u001b[0m \u001b[43m                \u001b[49m\u001b[38;5;124;43m\"\u001b[39;49m\u001b[38;5;124;43mseed\u001b[39;49m\u001b[38;5;124;43m\"\u001b[39;49m\u001b[43m:\u001b[49m\u001b[43m \u001b[49m\u001b[43mseed\u001b[49m\u001b[43m,\u001b[49m\n\u001b[1;32m    663\u001b[0m \u001b[43m                \u001b[49m\u001b[38;5;124;43m\"\u001b[39;49m\u001b[38;5;124;43mservice_tier\u001b[39;49m\u001b[38;5;124;43m\"\u001b[39;49m\u001b[43m:\u001b[49m\u001b[43m \u001b[49m\u001b[43mservice_tier\u001b[49m\u001b[43m,\u001b[49m\n\u001b[1;32m    664\u001b[0m \u001b[43m                \u001b[49m\u001b[38;5;124;43m\"\u001b[39;49m\u001b[38;5;124;43mstop\u001b[39;49m\u001b[38;5;124;43m\"\u001b[39;49m\u001b[43m:\u001b[49m\u001b[43m \u001b[49m\u001b[43mstop\u001b[49m\u001b[43m,\u001b[49m\n\u001b[1;32m    665\u001b[0m \u001b[43m                \u001b[49m\u001b[38;5;124;43m\"\u001b[39;49m\u001b[38;5;124;43mstream\u001b[39;49m\u001b[38;5;124;43m\"\u001b[39;49m\u001b[43m:\u001b[49m\u001b[43m \u001b[49m\u001b[43mstream\u001b[49m\u001b[43m,\u001b[49m\n\u001b[1;32m    666\u001b[0m \u001b[43m                \u001b[49m\u001b[38;5;124;43m\"\u001b[39;49m\u001b[38;5;124;43mstream_options\u001b[39;49m\u001b[38;5;124;43m\"\u001b[39;49m\u001b[43m:\u001b[49m\u001b[43m \u001b[49m\u001b[43mstream_options\u001b[49m\u001b[43m,\u001b[49m\n\u001b[1;32m    667\u001b[0m \u001b[43m                \u001b[49m\u001b[38;5;124;43m\"\u001b[39;49m\u001b[38;5;124;43mtemperature\u001b[39;49m\u001b[38;5;124;43m\"\u001b[39;49m\u001b[43m:\u001b[49m\u001b[43m \u001b[49m\u001b[43mtemperature\u001b[49m\u001b[43m,\u001b[49m\n\u001b[1;32m    668\u001b[0m \u001b[43m                \u001b[49m\u001b[38;5;124;43m\"\u001b[39;49m\u001b[38;5;124;43mtool_choice\u001b[39;49m\u001b[38;5;124;43m\"\u001b[39;49m\u001b[43m:\u001b[49m\u001b[43m \u001b[49m\u001b[43mtool_choice\u001b[49m\u001b[43m,\u001b[49m\n\u001b[1;32m    669\u001b[0m \u001b[43m                \u001b[49m\u001b[38;5;124;43m\"\u001b[39;49m\u001b[38;5;124;43mtools\u001b[39;49m\u001b[38;5;124;43m\"\u001b[39;49m\u001b[43m:\u001b[49m\u001b[43m \u001b[49m\u001b[43mtools\u001b[49m\u001b[43m,\u001b[49m\n\u001b[1;32m    670\u001b[0m \u001b[43m                \u001b[49m\u001b[38;5;124;43m\"\u001b[39;49m\u001b[38;5;124;43mtop_logprobs\u001b[39;49m\u001b[38;5;124;43m\"\u001b[39;49m\u001b[43m:\u001b[49m\u001b[43m \u001b[49m\u001b[43mtop_logprobs\u001b[49m\u001b[43m,\u001b[49m\n\u001b[1;32m    671\u001b[0m \u001b[43m                \u001b[49m\u001b[38;5;124;43m\"\u001b[39;49m\u001b[38;5;124;43mtop_p\u001b[39;49m\u001b[38;5;124;43m\"\u001b[39;49m\u001b[43m:\u001b[49m\u001b[43m \u001b[49m\u001b[43mtop_p\u001b[49m\u001b[43m,\u001b[49m\n\u001b[1;32m    672\u001b[0m \u001b[43m                \u001b[49m\u001b[38;5;124;43m\"\u001b[39;49m\u001b[38;5;124;43muser\u001b[39;49m\u001b[38;5;124;43m\"\u001b[39;49m\u001b[43m:\u001b[49m\u001b[43m \u001b[49m\u001b[43muser\u001b[49m\u001b[43m,\u001b[49m\n\u001b[1;32m    673\u001b[0m \u001b[43m            \u001b[49m\u001b[43m}\u001b[49m\u001b[43m,\u001b[49m\n\u001b[1;32m    674\u001b[0m \u001b[43m            \u001b[49m\u001b[43mcompletion_create_params\u001b[49m\u001b[38;5;241;43m.\u001b[39;49m\u001b[43mCompletionCreateParams\u001b[49m\u001b[43m,\u001b[49m\n\u001b[1;32m    675\u001b[0m \u001b[43m        \u001b[49m\u001b[43m)\u001b[49m\u001b[43m,\u001b[49m\n\u001b[1;32m    676\u001b[0m \u001b[43m        \u001b[49m\u001b[43moptions\u001b[49m\u001b[38;5;241;43m=\u001b[39;49m\u001b[43mmake_request_options\u001b[49m\u001b[43m(\u001b[49m\n\u001b[1;32m    677\u001b[0m \u001b[43m            \u001b[49m\u001b[43mextra_headers\u001b[49m\u001b[38;5;241;43m=\u001b[39;49m\u001b[43mextra_headers\u001b[49m\u001b[43m,\u001b[49m\u001b[43m \u001b[49m\u001b[43mextra_query\u001b[49m\u001b[38;5;241;43m=\u001b[39;49m\u001b[43mextra_query\u001b[49m\u001b[43m,\u001b[49m\u001b[43m \u001b[49m\u001b[43mextra_body\u001b[49m\u001b[38;5;241;43m=\u001b[39;49m\u001b[43mextra_body\u001b[49m\u001b[43m,\u001b[49m\u001b[43m \u001b[49m\u001b[43mtimeout\u001b[49m\u001b[38;5;241;43m=\u001b[39;49m\u001b[43mtimeout\u001b[49m\n\u001b[1;32m    678\u001b[0m \u001b[43m        \u001b[49m\u001b[43m)\u001b[49m\u001b[43m,\u001b[49m\n\u001b[1;32m    679\u001b[0m \u001b[43m        \u001b[49m\u001b[43mcast_to\u001b[49m\u001b[38;5;241;43m=\u001b[39;49m\u001b[43mChatCompletion\u001b[49m\u001b[43m,\u001b[49m\n\u001b[1;32m    680\u001b[0m \u001b[43m        \u001b[49m\u001b[43mstream\u001b[49m\u001b[38;5;241;43m=\u001b[39;49m\u001b[43mstream\u001b[49m\u001b[43m \u001b[49m\u001b[38;5;129;43;01mor\u001b[39;49;00m\u001b[43m \u001b[49m\u001b[38;5;28;43;01mFalse\u001b[39;49;00m\u001b[43m,\u001b[49m\n\u001b[1;32m    681\u001b[0m \u001b[43m        \u001b[49m\u001b[43mstream_cls\u001b[49m\u001b[38;5;241;43m=\u001b[39;49m\u001b[43mStream\u001b[49m\u001b[43m[\u001b[49m\u001b[43mChatCompletionChunk\u001b[49m\u001b[43m]\u001b[49m\u001b[43m,\u001b[49m\n\u001b[1;32m    682\u001b[0m \u001b[43m    \u001b[49m\u001b[43m)\u001b[49m\n",
      "File \u001b[0;32m/opt/homebrew/anaconda3/lib/python3.11/site-packages/openai/_base_client.py:1266\u001b[0m, in \u001b[0;36mSyncAPIClient.post\u001b[0;34m(self, path, cast_to, body, options, files, stream, stream_cls)\u001b[0m\n\u001b[1;32m   1263\u001b[0m opts \u001b[38;5;241m=\u001b[39m FinalRequestOptions\u001b[38;5;241m.\u001b[39mconstruct(\n\u001b[1;32m   1264\u001b[0m     method\u001b[38;5;241m=\u001b[39m\u001b[38;5;124m\"\u001b[39m\u001b[38;5;124mpost\u001b[39m\u001b[38;5;124m\"\u001b[39m, url\u001b[38;5;241m=\u001b[39mpath, json_data\u001b[38;5;241m=\u001b[39mbody, files\u001b[38;5;241m=\u001b[39mto_httpx_files(files), \u001b[38;5;241m*\u001b[39m\u001b[38;5;241m*\u001b[39moptions\n\u001b[1;32m   1265\u001b[0m )\n\u001b[0;32m-> 1266\u001b[0m \u001b[38;5;28;01mreturn\u001b[39;00m cast(ResponseT, \u001b[38;5;28;43mself\u001b[39;49m\u001b[38;5;241;43m.\u001b[39;49m\u001b[43mrequest\u001b[49m\u001b[43m(\u001b[49m\u001b[43mcast_to\u001b[49m\u001b[43m,\u001b[49m\u001b[43m \u001b[49m\u001b[43mopts\u001b[49m\u001b[43m,\u001b[49m\u001b[43m \u001b[49m\u001b[43mstream\u001b[49m\u001b[38;5;241;43m=\u001b[39;49m\u001b[43mstream\u001b[49m\u001b[43m,\u001b[49m\u001b[43m \u001b[49m\u001b[43mstream_cls\u001b[49m\u001b[38;5;241;43m=\u001b[39;49m\u001b[43mstream_cls\u001b[49m\u001b[43m)\u001b[49m)\n",
      "File \u001b[0;32m/opt/homebrew/anaconda3/lib/python3.11/site-packages/openai/_base_client.py:942\u001b[0m, in \u001b[0;36mSyncAPIClient.request\u001b[0;34m(self, cast_to, options, remaining_retries, stream, stream_cls)\u001b[0m\n\u001b[1;32m    933\u001b[0m \u001b[38;5;28;01mdef\u001b[39;00m \u001b[38;5;21mrequest\u001b[39m(\n\u001b[1;32m    934\u001b[0m     \u001b[38;5;28mself\u001b[39m,\n\u001b[1;32m    935\u001b[0m     cast_to: Type[ResponseT],\n\u001b[0;32m   (...)\u001b[0m\n\u001b[1;32m    940\u001b[0m     stream_cls: \u001b[38;5;28mtype\u001b[39m[_StreamT] \u001b[38;5;241m|\u001b[39m \u001b[38;5;28;01mNone\u001b[39;00m \u001b[38;5;241m=\u001b[39m \u001b[38;5;28;01mNone\u001b[39;00m,\n\u001b[1;32m    941\u001b[0m ) \u001b[38;5;241m-\u001b[39m\u001b[38;5;241m>\u001b[39m ResponseT \u001b[38;5;241m|\u001b[39m _StreamT:\n\u001b[0;32m--> 942\u001b[0m     \u001b[38;5;28;01mreturn\u001b[39;00m \u001b[38;5;28;43mself\u001b[39;49m\u001b[38;5;241;43m.\u001b[39;49m\u001b[43m_request\u001b[49m\u001b[43m(\u001b[49m\n\u001b[1;32m    943\u001b[0m \u001b[43m        \u001b[49m\u001b[43mcast_to\u001b[49m\u001b[38;5;241;43m=\u001b[39;49m\u001b[43mcast_to\u001b[49m\u001b[43m,\u001b[49m\n\u001b[1;32m    944\u001b[0m \u001b[43m        \u001b[49m\u001b[43moptions\u001b[49m\u001b[38;5;241;43m=\u001b[39;49m\u001b[43moptions\u001b[49m\u001b[43m,\u001b[49m\n\u001b[1;32m    945\u001b[0m \u001b[43m        \u001b[49m\u001b[43mstream\u001b[49m\u001b[38;5;241;43m=\u001b[39;49m\u001b[43mstream\u001b[49m\u001b[43m,\u001b[49m\n\u001b[1;32m    946\u001b[0m \u001b[43m        \u001b[49m\u001b[43mstream_cls\u001b[49m\u001b[38;5;241;43m=\u001b[39;49m\u001b[43mstream_cls\u001b[49m\u001b[43m,\u001b[49m\n\u001b[1;32m    947\u001b[0m \u001b[43m        \u001b[49m\u001b[43mremaining_retries\u001b[49m\u001b[38;5;241;43m=\u001b[39;49m\u001b[43mremaining_retries\u001b[49m\u001b[43m,\u001b[49m\n\u001b[1;32m    948\u001b[0m \u001b[43m    \u001b[49m\u001b[43m)\u001b[49m\n",
      "File \u001b[0;32m/opt/homebrew/anaconda3/lib/python3.11/site-packages/openai/_base_client.py:1046\u001b[0m, in \u001b[0;36mSyncAPIClient._request\u001b[0;34m(self, cast_to, options, remaining_retries, stream, stream_cls)\u001b[0m\n\u001b[1;32m   1045\u001b[0m     log\u001b[38;5;241m.\u001b[39mdebug(\u001b[38;5;124m\"\u001b[39m\u001b[38;5;124mRe-raising status error\u001b[39m\u001b[38;5;124m\"\u001b[39m)\n\u001b[0;32m-> 1046\u001b[0m     \u001b[38;5;28;01mraise\u001b[39;00m \u001b[38;5;28mself\u001b[39m\u001b[38;5;241m.\u001b[39m_make_status_error_from_response(err\u001b[38;5;241m.\u001b[39mresponse) \u001b[38;5;28;01mfrom\u001b[39;00m \u001b[38;5;28;01mNone\u001b[39;00m\n\u001b[1;32m   1048\u001b[0m \u001b[38;5;28;01mreturn\u001b[39;00m \u001b[38;5;28mself\u001b[39m\u001b[38;5;241m.\u001b[39m_process_response(\n\u001b[1;32m   1049\u001b[0m     cast_to\u001b[38;5;241m=\u001b[39mcast_to,\n\u001b[1;32m   1050\u001b[0m     options\u001b[38;5;241m=\u001b[39moptions,\n\u001b[0;32m   (...)\u001b[0m\n\u001b[1;32m   1053\u001b[0m     stream_cls\u001b[38;5;241m=\u001b[39mstream_cls,\n\u001b[1;32m   1054\u001b[0m )\n",
      "\u001b[0;31mBadRequestError\u001b[0m: Error code: 400 - {'error': {'message': \"This model's maximum context length is 128000 tokens. However, your messages resulted in 190759 tokens. Please reduce the length of the messages.\", 'type': 'invalid_request_error', 'param': 'messages', 'code': 'context_length_exceeded'}}",
      "\nDuring handling of the above exception, another exception occurred:\n",
      "\u001b[0;31mUnboundLocalError\u001b[0m                         Traceback (most recent call last)",
      "Cell \u001b[0;32mIn[1], line 18\u001b[0m\n\u001b[1;32m     11\u001b[0m search \u001b[38;5;241m=\u001b[39m arxiv\u001b[38;5;241m.\u001b[39mSearch(\n\u001b[1;32m     12\u001b[0m     query\u001b[38;5;241m=\u001b[39mquery,\n\u001b[1;32m     13\u001b[0m     max_results\u001b[38;5;241m=\u001b[39mmax_results,\n\u001b[1;32m     14\u001b[0m     sort_by\u001b[38;5;241m=\u001b[39marxiv\u001b[38;5;241m.\u001b[39mSortCriterion\u001b[38;5;241m.\u001b[39mSubmittedDate\n\u001b[1;32m     15\u001b[0m )\n\u001b[1;32m     17\u001b[0m \u001b[38;5;28;01mfor\u001b[39;00m r \u001b[38;5;129;01min\u001b[39;00m tqdm(client\u001b[38;5;241m.\u001b[39mresults(search), desc\u001b[38;5;241m=\u001b[39m\u001b[38;5;124m\"\u001b[39m\u001b[38;5;124mDownloading Newest Arxiv Papers\u001b[39m\u001b[38;5;124m\"\u001b[39m):\n\u001b[0;32m---> 18\u001b[0m     paper_info \u001b[38;5;241m=\u001b[39m \u001b[43mget_paper_info\u001b[49m\u001b[43m(\u001b[49m\u001b[43mr\u001b[49m\u001b[43m)\u001b[49m\n\u001b[1;32m     19\u001b[0m     paper \u001b[38;5;241m=\u001b[39m Paper(\u001b[38;5;241m*\u001b[39m\u001b[38;5;241m*\u001b[39mpaper_info)\n\u001b[1;32m     20\u001b[0m     paper\u001b[38;5;241m.\u001b[39msave(\u001b[38;5;124m\"\u001b[39m\u001b[38;5;124mcave/paper\u001b[39m\u001b[38;5;124m\"\u001b[39m)\n",
      "File \u001b[0;32m~/Project/thought-compiler/src/paper.py:71\u001b[0m, in \u001b[0;36mget_paper_info\u001b[0;34m(r)\u001b[0m\n\u001b[1;32m     69\u001b[0m os\u001b[38;5;241m.\u001b[39mmakedirs(\u001b[38;5;124m\"\u001b[39m\u001b[38;5;124mcave/paper\u001b[39m\u001b[38;5;124m\"\u001b[39m, exist_ok\u001b[38;5;241m=\u001b[39m\u001b[38;5;28;01mTrue\u001b[39;00m)\n\u001b[1;32m     70\u001b[0m paper_path \u001b[38;5;241m=\u001b[39m r\u001b[38;5;241m.\u001b[39mdownload_pdf(dirpath\u001b[38;5;241m=\u001b[39m\u001b[38;5;124m\"\u001b[39m\u001b[38;5;124mcave/paper/\u001b[39m\u001b[38;5;124m\"\u001b[39m)\n\u001b[0;32m---> 71\u001b[0m citations, tags, img \u001b[38;5;241m=\u001b[39m \u001b[43mextract_citations_and_tags\u001b[49m\u001b[43m(\u001b[49m\u001b[43mpaper_path\u001b[49m\u001b[43m)\u001b[49m\n\u001b[1;32m     72\u001b[0m os\u001b[38;5;241m.\u001b[39mremove(paper_path)\n\u001b[1;32m     73\u001b[0m paper_info[\u001b[38;5;124m\"\u001b[39m\u001b[38;5;124mcitations\u001b[39m\u001b[38;5;124m\"\u001b[39m] \u001b[38;5;241m=\u001b[39m citations\n",
      "File \u001b[0;32m~/Project/thought-compiler/src/paper.py:97\u001b[0m, in \u001b[0;36mextract_citations_and_tags\u001b[0;34m(paper_path)\u001b[0m\n\u001b[1;32m     95\u001b[0m \u001b[38;5;28;01mexcept\u001b[39;00m \u001b[38;5;167;01mException\u001b[39;00m \u001b[38;5;28;01mas\u001b[39;00m e:\n\u001b[1;32m     96\u001b[0m     \u001b[38;5;28mprint\u001b[39m(\u001b[38;5;124mf\u001b[39m\u001b[38;5;124m\"\u001b[39m\u001b[38;5;124mAn error occurred: \u001b[39m\u001b[38;5;132;01m{\u001b[39;00me\u001b[38;5;132;01m}\u001b[39;00m\u001b[38;5;124m\"\u001b[39m)\n\u001b[0;32m---> 97\u001b[0m     \u001b[38;5;28mprint\u001b[39m(\u001b[38;5;124m\"\u001b[39m\u001b[38;5;124mIssue response: \u001b[39m\u001b[38;5;130;01m\\n\u001b[39;00m\u001b[38;5;124m\"\u001b[39m, response)\n\u001b[1;32m     98\u001b[0m     citations, tags \u001b[38;5;241m=\u001b[39m [], []\n\u001b[1;32m     99\u001b[0m     has_result \u001b[38;5;241m=\u001b[39m \u001b[38;5;28;01mFalse\u001b[39;00m\n",
      "\u001b[0;31mUnboundLocalError\u001b[0m: cannot access local variable 'response' where it is not associated with a value"
     ]
    }
   ],
   "source": [
    "import arxiv \n",
    "from tqdm import tqdm\n",
    "import os \n",
    "from src.paper import Paper, get_paper_info\n",
    "\n",
    "\n",
    "query = \"AI\"\n",
    "max_results = 100\n",
    "\n",
    "client = arxiv.Client()\n",
    "search = arxiv.Search(\n",
    "    query=query,\n",
    "    max_results=max_results,\n",
    "    sort_by=arxiv.SortCriterion.SubmittedDate\n",
    ")\n",
    "\n",
    "for r in tqdm(client.results(search), desc=\"Downloading Newest Arxiv Papers\"):\n",
    "    paper_info = get_paper_info(r)\n",
    "    paper = Paper(**paper_info)\n",
    "    paper.save(\"cave/paper\")"
   ]
  },
  {
   "cell_type": "code",
   "execution_count": null,
   "metadata": {},
   "outputs": [],
   "source": [
    "# Retrieve Citations and traverse the Graph (Option 1)\n",
    "# (Simpler, Better) | Speed-up the LLM-Inference on RunPod and brute-force obtaining Huge historical research piece dataset\n",
    "# (Required) | Use whatever sized paper database to do some clustering and visualization"
   ]
  },
  {
   "cell_type": "code",
   "execution_count": null,
   "metadata": {},
   "outputs": [],
   "source": []
  }
 ],
 "metadata": {
  "kernelspec": {
   "display_name": "base",
   "language": "python",
   "name": "python3"
  },
  "language_info": {
   "codemirror_mode": {
    "name": "ipython",
    "version": 3
   },
   "file_extension": ".py",
   "mimetype": "text/x-python",
   "name": "python",
   "nbconvert_exporter": "python",
   "pygments_lexer": "ipython3",
   "version": "3.11.5"
  }
 },
 "nbformat": 4,
 "nbformat_minor": 2
}
